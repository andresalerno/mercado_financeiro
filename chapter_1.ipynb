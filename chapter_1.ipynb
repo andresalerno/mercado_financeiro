{
 "cells": [
  {
   "cell_type": "markdown",
   "metadata": {},
   "source": [
    "# Python e Mercado Financeiro"
   ]
  },
  {
   "cell_type": "markdown",
   "metadata": {},
   "source": [
    "## 1) Chapter 1"
   ]
  },
  {
   "cell_type": "code",
   "execution_count": 148,
   "metadata": {},
   "outputs": [
    {
     "data": {
      "text/plain": [
       "2"
      ]
     },
     "execution_count": 148,
     "metadata": {},
     "output_type": "execute_result"
    }
   ],
   "source": [
    "# operações simples\n",
    "\n",
    "1 + 1"
   ]
  },
  {
   "cell_type": "code",
   "execution_count": 149,
   "metadata": {},
   "outputs": [
    {
     "data": {
      "text/plain": [
       "1.5"
      ]
     },
     "execution_count": 149,
     "metadata": {},
     "output_type": "execute_result"
    }
   ],
   "source": [
    "# divisão\n",
    "\n",
    "3 / 2"
   ]
  },
  {
   "cell_type": "code",
   "execution_count": 150,
   "metadata": {},
   "outputs": [
    {
     "data": {
      "text/plain": [
       "-6"
      ]
     },
     "execution_count": 150,
     "metadata": {},
     "output_type": "execute_result"
    }
   ],
   "source": [
    "# números negativos\n",
    "4 - 10"
   ]
  },
  {
   "cell_type": "code",
   "execution_count": 151,
   "metadata": {},
   "outputs": [
    {
     "data": {
      "text/plain": [
       "8"
      ]
     },
     "execution_count": 151,
     "metadata": {},
     "output_type": "execute_result"
    }
   ],
   "source": [
    "# exponenciação\n",
    "2 ** 3"
   ]
  },
  {
   "cell_type": "code",
   "execution_count": 152,
   "metadata": {},
   "outputs": [
    {
     "data": {
      "text/plain": [
       "1"
      ]
     },
     "execution_count": 152,
     "metadata": {},
     "output_type": "execute_result"
    }
   ],
   "source": [
    "# resto\n",
    "10 % 3"
   ]
  },
  {
   "cell_type": "code",
   "execution_count": 153,
   "metadata": {},
   "outputs": [],
   "source": [
    "# atribuição de variáveis\n",
    "\n",
    "x = 5\n",
    "y = 10"
   ]
  },
  {
   "cell_type": "code",
   "execution_count": 154,
   "metadata": {},
   "outputs": [
    {
     "name": "stdout",
     "output_type": "stream",
     "text": [
      "5\n"
     ]
    }
   ],
   "source": [
    "print(x)"
   ]
  },
  {
   "cell_type": "code",
   "execution_count": 155,
   "metadata": {},
   "outputs": [
    {
     "name": "stdout",
     "output_type": "stream",
     "text": [
      "5 10\n"
     ]
    }
   ],
   "source": [
    "print (x, y)"
   ]
  },
  {
   "cell_type": "code",
   "execution_count": 156,
   "metadata": {},
   "outputs": [
    {
     "name": "stdout",
     "output_type": "stream",
     "text": [
      "x =  5 y =  10\n"
     ]
    }
   ],
   "source": [
    "print(\"x = \", x, \"y = \", y)"
   ]
  },
  {
   "cell_type": "code",
   "execution_count": 157,
   "metadata": {},
   "outputs": [
    {
     "name": "stdout",
     "output_type": "stream",
     "text": [
      "15\n"
     ]
    }
   ],
   "source": [
    "print(x + y)"
   ]
  },
  {
   "cell_type": "code",
   "execution_count": 158,
   "metadata": {},
   "outputs": [
    {
     "name": "stdout",
     "output_type": "stream",
     "text": [
      "-5\n"
     ]
    }
   ],
   "source": [
    "print(x - y)"
   ]
  },
  {
   "cell_type": "code",
   "execution_count": 159,
   "metadata": {},
   "outputs": [
    {
     "name": "stdout",
     "output_type": "stream",
     "text": [
      "0.5\n"
     ]
    }
   ],
   "source": [
    "print(x / y)"
   ]
  },
  {
   "cell_type": "code",
   "execution_count": 160,
   "metadata": {},
   "outputs": [
    {
     "data": {
      "text/plain": [
       "7.38905609893065"
      ]
     },
     "execution_count": 160,
     "metadata": {},
     "output_type": "execute_result"
    }
   ],
   "source": [
    "import math as mt\n",
    "\n",
    "# retorna e elevado a x\n",
    "mt.exp(2)\n",
    "\n"
   ]
  },
  {
   "cell_type": "code",
   "execution_count": 161,
   "metadata": {},
   "outputs": [
    {
     "data": {
      "text/plain": [
       "1.0"
      ]
     },
     "execution_count": 161,
     "metadata": {},
     "output_type": "execute_result"
    }
   ],
   "source": [
    "# retorna o logaritmo de x na base 2\n",
    "mt.log2(2)"
   ]
  },
  {
   "cell_type": "code",
   "execution_count": 162,
   "metadata": {},
   "outputs": [
    {
     "data": {
      "text/plain": [
       "0.3010299956639812"
      ]
     },
     "execution_count": 162,
     "metadata": {},
     "output_type": "execute_result"
    }
   ],
   "source": [
    "# retorna o logaritmo de x na base 10\n",
    "mt.log10(2)"
   ]
  },
  {
   "cell_type": "code",
   "execution_count": 163,
   "metadata": {},
   "outputs": [
    {
     "data": {
      "text/plain": [
       "0.6931471805599453"
      ]
     },
     "execution_count": 163,
     "metadata": {},
     "output_type": "execute_result"
    }
   ],
   "source": [
    "# retorna o logaritmo natural na base 10\n",
    "mt.log(2)"
   ]
  },
  {
   "cell_type": "code",
   "execution_count": 164,
   "metadata": {},
   "outputs": [
    {
     "data": {
      "text/plain": [
       "0.30102999566398114"
      ]
     },
     "execution_count": 164,
     "metadata": {},
     "output_type": "execute_result"
    }
   ],
   "source": [
    "# retorna o logaritmo de x na base b, apenas quando b é diferente de 2 e 10\n",
    "mt.log(2,10)"
   ]
  },
  {
   "cell_type": "code",
   "execution_count": 165,
   "metadata": {},
   "outputs": [
    {
     "data": {
      "text/plain": [
       "8.0"
      ]
     },
     "execution_count": 165,
     "metadata": {},
     "output_type": "execute_result"
    }
   ],
   "source": [
    "# retorna x elevado a y\n",
    "mt.pow(2,3)"
   ]
  },
  {
   "cell_type": "code",
   "execution_count": 166,
   "metadata": {},
   "outputs": [
    {
     "data": {
      "text/plain": [
       "4.0"
      ]
     },
     "execution_count": 166,
     "metadata": {},
     "output_type": "execute_result"
    }
   ],
   "source": [
    "# retorna a raiz quadrada de x\n",
    "mt.sqrt(16)"
   ]
  },
  {
   "cell_type": "code",
   "execution_count": 167,
   "metadata": {},
   "outputs": [
    {
     "data": {
      "text/plain": [
       "-0.9899924966004454"
      ]
     },
     "execution_count": 167,
     "metadata": {},
     "output_type": "execute_result"
    }
   ],
   "source": [
    "# funções trigonométricas\n",
    "# retorna o cosseno de x\n",
    "mt.cos(3)"
   ]
  },
  {
   "cell_type": "code",
   "execution_count": 168,
   "metadata": {},
   "outputs": [
    {
     "data": {
      "text/plain": [
       "0.1411200080598672"
      ]
     },
     "execution_count": 168,
     "metadata": {},
     "output_type": "execute_result"
    }
   ],
   "source": [
    "# retorna o seno de x\n",
    "mt.sin(3)"
   ]
  },
  {
   "cell_type": "code",
   "execution_count": 169,
   "metadata": {},
   "outputs": [
    {
     "data": {
      "text/plain": [
       "-0.1425465430742778"
      ]
     },
     "execution_count": 169,
     "metadata": {},
     "output_type": "execute_result"
    }
   ],
   "source": [
    "# retorna a tangente de x\n",
    "mt.tan(3)"
   ]
  },
  {
   "cell_type": "code",
   "execution_count": 170,
   "metadata": {},
   "outputs": [
    {
     "data": {
      "text/plain": [
       "89.95437383553924"
      ]
     },
     "execution_count": 170,
     "metadata": {},
     "output_type": "execute_result"
    }
   ],
   "source": [
    "# converte o ângulo x de radianos para graus\n",
    "\n",
    "mt.degrees(1.57)"
   ]
  },
  {
   "cell_type": "code",
   "execution_count": 171,
   "metadata": {},
   "outputs": [
    {
     "data": {
      "text/plain": [
       "1.5707963267948966"
      ]
     },
     "execution_count": 171,
     "metadata": {},
     "output_type": "execute_result"
    }
   ],
   "source": [
    "# converte o ângulo de x graus para radianos\n",
    "\n",
    "mt.radians(90)"
   ]
  },
  {
   "cell_type": "code",
   "execution_count": 172,
   "metadata": {},
   "outputs": [
    {
     "data": {
      "text/plain": [
       "0.9884320889261531"
      ]
     },
     "execution_count": 172,
     "metadata": {},
     "output_type": "execute_result"
    }
   ],
   "source": [
    "# retorna o arco cosseno de x\n",
    "\n",
    "mt.acos(0.55)"
   ]
  },
  {
   "cell_type": "code",
   "execution_count": 173,
   "metadata": {},
   "outputs": [
    {
     "data": {
      "text/plain": [
       "0.5823642378687435"
      ]
     },
     "execution_count": 173,
     "metadata": {},
     "output_type": "execute_result"
    }
   ],
   "source": [
    "# retorna o arco seno de x\n",
    "\n",
    "mt.asin(0.55)"
   ]
  },
  {
   "cell_type": "code",
   "execution_count": 174,
   "metadata": {},
   "outputs": [
    {
     "data": {
      "text/plain": [
       "0.5028432109278609"
      ]
     },
     "execution_count": 174,
     "metadata": {},
     "output_type": "execute_result"
    }
   ],
   "source": [
    "# retorna o arco tangente de x\n",
    "\n",
    "mt.atan(0.55)"
   ]
  },
  {
   "cell_type": "code",
   "execution_count": 175,
   "metadata": {},
   "outputs": [
    {
     "name": "stdout",
     "output_type": "stream",
     "text": [
      "[1, 3, 5, 7, 9, 11, 13, 15, 17, 19]\n"
     ]
    }
   ],
   "source": [
    "# listas\n",
    "\n",
    "dados = list(range(1,20,2))\n",
    "\n",
    "print(dados)\n"
   ]
  },
  {
   "cell_type": "code",
   "execution_count": 176,
   "metadata": {},
   "outputs": [
    {
     "data": {
      "text/plain": [
       "3"
      ]
     },
     "execution_count": 176,
     "metadata": {},
     "output_type": "execute_result"
    }
   ],
   "source": [
    "# lista é uma sequência ordenada em que os elementos são sempre associados a um índice\n",
    "\n",
    "dados[1]"
   ]
  },
  {
   "cell_type": "code",
   "execution_count": 177,
   "metadata": {},
   "outputs": [
    {
     "data": {
      "text/plain": [
       "19"
      ]
     },
     "execution_count": 177,
     "metadata": {},
     "output_type": "execute_result"
    }
   ],
   "source": [
    "dados[-1]"
   ]
  },
  {
   "cell_type": "code",
   "execution_count": 178,
   "metadata": {},
   "outputs": [
    {
     "name": "stdout",
     "output_type": "stream",
     "text": [
      "10\n"
     ]
    }
   ],
   "source": [
    "print(len(dados))"
   ]
  },
  {
   "cell_type": "code",
   "execution_count": 179,
   "metadata": {},
   "outputs": [
    {
     "name": "stdout",
     "output_type": "stream",
     "text": [
      "[5, 7]\n"
     ]
    }
   ],
   "source": [
    "print(dados[2:4])"
   ]
  },
  {
   "cell_type": "code",
   "execution_count": 180,
   "metadata": {},
   "outputs": [
    {
     "data": {
      "text/plain": [
       "True"
      ]
     },
     "execution_count": 180,
     "metadata": {},
     "output_type": "execute_result"
    }
   ],
   "source": [
    "3 in dados"
   ]
  },
  {
   "cell_type": "code",
   "execution_count": 181,
   "metadata": {},
   "outputs": [
    {
     "data": {
      "text/plain": [
       "False"
      ]
     },
     "execution_count": 181,
     "metadata": {},
     "output_type": "execute_result"
    }
   ],
   "source": [
    "18 in dados"
   ]
  },
  {
   "cell_type": "code",
   "execution_count": 182,
   "metadata": {},
   "outputs": [],
   "source": [
    "# substituição na lista\n",
    "\n",
    "dados[-1] = 20"
   ]
  },
  {
   "cell_type": "code",
   "execution_count": 183,
   "metadata": {},
   "outputs": [
    {
     "name": "stdout",
     "output_type": "stream",
     "text": [
      "[1, 3, 5, 7, 9, 11, 13, 15, 17, 20]\n"
     ]
    }
   ],
   "source": [
    "print(dados)"
   ]
  },
  {
   "cell_type": "code",
   "execution_count": 184,
   "metadata": {},
   "outputs": [],
   "source": [
    "dados.append(22)"
   ]
  },
  {
   "cell_type": "code",
   "execution_count": 185,
   "metadata": {},
   "outputs": [
    {
     "name": "stdout",
     "output_type": "stream",
     "text": [
      "[1, 3, 5, 7, 9, 11, 13, 15, 17, 20, 22]\n"
     ]
    }
   ],
   "source": [
    "print(dados)"
   ]
  },
  {
   "cell_type": "code",
   "execution_count": 186,
   "metadata": {},
   "outputs": [
    {
     "data": {
      "text/plain": [
       "1"
      ]
     },
     "execution_count": 186,
     "metadata": {},
     "output_type": "execute_result"
    }
   ],
   "source": [
    "# contando repetições\n",
    "\n",
    "dados.count(22)"
   ]
  },
  {
   "cell_type": "code",
   "execution_count": 187,
   "metadata": {},
   "outputs": [],
   "source": [
    "# adicionando lista em uma lista\n",
    "\n",
    "dados.extend([list(range(1,4))])"
   ]
  },
  {
   "cell_type": "code",
   "execution_count": 188,
   "metadata": {},
   "outputs": [
    {
     "name": "stdout",
     "output_type": "stream",
     "text": [
      "[1, 3, 5, 7, 9, 11, 13, 15, 17, 20, 22, [1, 2, 3]]\n"
     ]
    }
   ],
   "source": [
    "print(dados)"
   ]
  },
  {
   "cell_type": "code",
   "execution_count": 189,
   "metadata": {},
   "outputs": [],
   "source": [
    "# organizando\n",
    "\n",
    "import string\n",
    "\n",
    "letras = list(string.ascii_uppercase)"
   ]
  },
  {
   "cell_type": "code",
   "execution_count": 190,
   "metadata": {},
   "outputs": [
    {
     "name": "stdout",
     "output_type": "stream",
     "text": [
      "['A', 'B', 'C', 'D', 'E', 'F', 'G', 'H', 'I', 'J', 'K', 'L', 'M', 'N', 'O', 'P', 'Q', 'R', 'S', 'T', 'U', 'V', 'W', 'X', 'Y', 'Z']\n"
     ]
    }
   ],
   "source": [
    "print(letras)"
   ]
  },
  {
   "cell_type": "code",
   "execution_count": 191,
   "metadata": {},
   "outputs": [
    {
     "data": {
      "text/plain": [
       "list"
      ]
     },
     "execution_count": 191,
     "metadata": {},
     "output_type": "execute_result"
    }
   ],
   "source": [
    "type(letras)"
   ]
  },
  {
   "cell_type": "code",
   "execution_count": 192,
   "metadata": {},
   "outputs": [],
   "source": [
    "letras_slicing = list(letras[12:24]) + list(letras[1:8])"
   ]
  },
  {
   "cell_type": "code",
   "execution_count": 193,
   "metadata": {},
   "outputs": [
    {
     "name": "stdout",
     "output_type": "stream",
     "text": [
      "['M', 'N', 'O', 'P', 'Q', 'R', 'S', 'T', 'U', 'V', 'W', 'X', 'B', 'C', 'D', 'E', 'F', 'G', 'H']\n"
     ]
    }
   ],
   "source": [
    "print(letras_slicing)\n"
   ]
  },
  {
   "cell_type": "code",
   "execution_count": 194,
   "metadata": {},
   "outputs": [
    {
     "data": {
      "text/plain": [
       "list"
      ]
     },
     "execution_count": 194,
     "metadata": {},
     "output_type": "execute_result"
    }
   ],
   "source": [
    "type(letras_slicing)"
   ]
  },
  {
   "cell_type": "code",
   "execution_count": 195,
   "metadata": {},
   "outputs": [],
   "source": [
    "letras_slicing.sort()"
   ]
  },
  {
   "cell_type": "code",
   "execution_count": 196,
   "metadata": {},
   "outputs": [
    {
     "name": "stdout",
     "output_type": "stream",
     "text": [
      "['B', 'C', 'D', 'E', 'F', 'G', 'H', 'M', 'N', 'O', 'P', 'Q', 'R', 'S', 'T', 'U', 'V', 'W', 'X']\n"
     ]
    }
   ],
   "source": [
    "print(letras_slicing)"
   ]
  },
  {
   "cell_type": "code",
   "execution_count": 197,
   "metadata": {},
   "outputs": [],
   "source": [
    "letras_slicing.reverse()"
   ]
  },
  {
   "cell_type": "code",
   "execution_count": 198,
   "metadata": {},
   "outputs": [
    {
     "name": "stdout",
     "output_type": "stream",
     "text": [
      "['X', 'W', 'V', 'U', 'T', 'S', 'R', 'Q', 'P', 'O', 'N', 'M', 'H', 'G', 'F', 'E', 'D', 'C', 'B']\n"
     ]
    }
   ],
   "source": [
    "print(letras_slicing)"
   ]
  },
  {
   "cell_type": "code",
   "execution_count": 199,
   "metadata": {},
   "outputs": [],
   "source": [
    "letras_slicing.remove(\"X\")"
   ]
  },
  {
   "cell_type": "code",
   "execution_count": 200,
   "metadata": {},
   "outputs": [
    {
     "name": "stdout",
     "output_type": "stream",
     "text": [
      "['W', 'V', 'U', 'T', 'S', 'R', 'Q', 'P', 'O', 'N', 'M', 'H', 'G', 'F', 'E', 'D', 'C', 'B']\n"
     ]
    }
   ],
   "source": [
    "print(letras_slicing)"
   ]
  },
  {
   "cell_type": "code",
   "execution_count": 201,
   "metadata": {},
   "outputs": [
    {
     "data": {
      "text/plain": [
       "0"
      ]
     },
     "execution_count": 201,
     "metadata": {},
     "output_type": "execute_result"
    }
   ],
   "source": [
    "letras_slicing.index(\"W\")"
   ]
  },
  {
   "cell_type": "code",
   "execution_count": 202,
   "metadata": {},
   "outputs": [],
   "source": [
    "letras_slicing.insert(0, \"X\")"
   ]
  },
  {
   "cell_type": "code",
   "execution_count": 203,
   "metadata": {},
   "outputs": [
    {
     "name": "stdout",
     "output_type": "stream",
     "text": [
      "['X', 'W', 'V', 'U', 'T', 'S', 'R', 'Q', 'P', 'O', 'N', 'M', 'H', 'G', 'F', 'E', 'D', 'C', 'B']\n"
     ]
    }
   ],
   "source": [
    "print(letras_slicing)"
   ]
  },
  {
   "cell_type": "code",
   "execution_count": 204,
   "metadata": {},
   "outputs": [],
   "source": [
    "# estatística básica no console\n",
    "\n",
    "import statistics as st"
   ]
  },
  {
   "cell_type": "code",
   "execution_count": 205,
   "metadata": {},
   "outputs": [
    {
     "name": "stdout",
     "output_type": "stream",
     "text": [
      "[1, 3, 5, 7, 9, 11, 13, 15, 17, 20, 22, [1, 2, 3]]\n"
     ]
    }
   ],
   "source": [
    "print(dados)"
   ]
  },
  {
   "cell_type": "code",
   "execution_count": 206,
   "metadata": {},
   "outputs": [],
   "source": [
    "dados = dados[:-1]"
   ]
  },
  {
   "cell_type": "code",
   "execution_count": 207,
   "metadata": {},
   "outputs": [
    {
     "data": {
      "text/plain": [
       "11.181818181818182"
      ]
     },
     "execution_count": 207,
     "metadata": {},
     "output_type": "execute_result"
    }
   ],
   "source": [
    "st.mean(dados)"
   ]
  },
  {
   "cell_type": "code",
   "execution_count": 208,
   "metadata": {},
   "outputs": [
    {
     "data": {
      "text/plain": [
       "11"
      ]
     },
     "execution_count": 208,
     "metadata": {},
     "output_type": "execute_result"
    }
   ],
   "source": [
    "from statistics import median\n",
    "\n",
    "\n",
    "st.median(dados)"
   ]
  },
  {
   "cell_type": "code",
   "execution_count": 209,
   "metadata": {},
   "outputs": [
    {
     "data": {
      "text/plain": [
       "1"
      ]
     },
     "execution_count": 209,
     "metadata": {},
     "output_type": "execute_result"
    }
   ],
   "source": [
    "st.mode(dados)"
   ]
  },
  {
   "cell_type": "code",
   "execution_count": 210,
   "metadata": {},
   "outputs": [
    {
     "data": {
      "text/plain": [
       "6.911124102751764"
      ]
     },
     "execution_count": 210,
     "metadata": {},
     "output_type": "execute_result"
    }
   ],
   "source": [
    "#desvio padrão amostral\n",
    "st.stdev(dados)"
   ]
  },
  {
   "cell_type": "code",
   "execution_count": 211,
   "metadata": {},
   "outputs": [
    {
     "data": {
      "text/plain": [
       "6.589498281607317"
      ]
     },
     "execution_count": 211,
     "metadata": {},
     "output_type": "execute_result"
    }
   ],
   "source": [
    "# desvio padrão populacional\n",
    "st.pstdev(dados)"
   ]
  },
  {
   "cell_type": "code",
   "execution_count": 331,
   "metadata": {},
   "outputs": [],
   "source": [
    "# bibliotecas científicas no console\n",
    "\n",
    "import matplotlib.pyplot as fig\n",
    "import numpy as np"
   ]
  },
  {
   "cell_type": "code",
   "execution_count": 332,
   "metadata": {},
   "outputs": [],
   "source": [
    "x = np.arange(1,20)"
   ]
  },
  {
   "cell_type": "code",
   "execution_count": 333,
   "metadata": {},
   "outputs": [],
   "source": [
    "y = 3*x-3"
   ]
  },
  {
   "cell_type": "code",
   "execution_count": 334,
   "metadata": {},
   "outputs": [
    {
     "data": {
      "image/png": "[encoded data removed]",
      "text/plain": [
       "<Figure size 432x288 with 1 Axes>"
      ]
     },
     "metadata": {
      "needs_background": "light"
     },
     "output_type": "display_data"
    }
   ],
   "source": [
    "fig.plot(x,y)\n",
    "fig.title(\"Reta\")\n",
    "fig.xlabel(\"Eixo X\")\n",
    "fig.ylabel(\"Eixo Y\")\n",
    "fig.show()"
   ]
  },
  {
   "cell_type": "code",
   "execution_count": 216,
   "metadata": {},
   "outputs": [],
   "source": [
    "# arquivos de tipo texto no console\n",
    "x = [1,2,3]\n",
    "f = open('example1.txt', 'w')\n",
    "f.write('%d %d %d\\n' % (x[0], x[1], x[2]))\n",
    "f.close()"
   ]
  },
  {
   "cell_type": "code",
   "execution_count": 217,
   "metadata": {},
   "outputs": [
    {
     "name": "stdout",
     "output_type": "stream",
     "text": [
      "1 2 3\n",
      "\n"
     ]
    }
   ],
   "source": [
    "# lendo arquivos\n",
    "\n",
    "f = open(\"example1.txt\", \"r\")\n",
    "y = f.read()\n",
    "print(y)\n",
    "f.close()"
   ]
  },
  {
   "cell_type": "code",
   "execution_count": 218,
   "metadata": {},
   "outputs": [],
   "source": [
    "import openpyxl"
   ]
  },
  {
   "cell_type": "code",
   "execution_count": 219,
   "metadata": {},
   "outputs": [
    {
     "name": "stdout",
     "output_type": "stream",
     "text": [
      "10\n"
     ]
    }
   ],
   "source": [
    "file = openpyxl.load_workbook('dados.xlsx')\n",
    "\n",
    "sheet1 = file['Planilha1']\n",
    "sheet2 = file['Planilha2']\n",
    "\n",
    "x = sheet1['A1'].value\n",
    "x = sheet2['A1'].value\n",
    "\n",
    "print(x)"
   ]
  },
  {
   "cell_type": "code",
   "execution_count": 224,
   "metadata": {},
   "outputs": [
    {
     "name": "stdout",
     "output_type": "stream",
     "text": [
      "[ 1  3  5  7  9 11 13 15 17 20 22]\n"
     ]
    },
    {
     "data": {
      "text/plain": [
       "array([-8, -8, -8])"
      ]
     },
     "execution_count": 224,
     "metadata": {},
     "output_type": "execute_result"
    }
   ],
   "source": [
    "dados_array = np.array(dados)\n",
    "\n",
    "print(dados_array)\n",
    "\n",
    "dados_array[0:3]\n",
    "\n",
    "dados_array[0:3] - dados_array[4:7]"
   ]
  },
  {
   "cell_type": "code",
   "execution_count": 356,
   "metadata": {},
   "outputs": [],
   "source": [
    "import pandas as pd\n",
    "from pandas_datareader import data as pdr"
   ]
  },
  {
   "cell_type": "code",
   "execution_count": 366,
   "metadata": {},
   "outputs": [],
   "source": [
    "df = pd.DataFrame()\n",
    "\n",
    "df = pdr.DataReader('PETR4.SA', data_source='yahoo', start='1-1-2021')\n",
    "\n",
    "#df = wb.DataReader('MSFT', data_source='yahoo', start='1-1-2015')['Adj Close']\n",
    "                   "
   ]
  },
  {
   "cell_type": "code",
   "execution_count": 367,
   "metadata": {},
   "outputs": [
    {
     "data": {
      "text/plain": [
       "High         432\n",
       "Low          432\n",
       "Open         432\n",
       "Close        432\n",
       "Volume       432\n",
       "Adj Close    432\n",
       "dtype: int64"
      ]
     },
     "execution_count": 367,
     "metadata": {},
     "output_type": "execute_result"
    }
   ],
   "source": [
    "df.count()"
   ]
  },
  {
   "cell_type": "code",
   "execution_count": 368,
   "metadata": {},
   "outputs": [
    {
     "data": {
      "text/html": [
       "<div>\n",
       "<style scoped>\n",
       "    .dataframe tbody tr th:only-of-type {\n",
       "        vertical-align: middle;\n",
       "    }\n",
       "\n",
       "    .dataframe tbody tr th {\n",
       "        vertical-align: top;\n",
       "    }\n",
       "\n",
       "    .dataframe thead th {\n",
       "        text-align: right;\n",
       "    }\n",
       "</style>\n",
       "<table border=\"1\" class=\"dataframe\">\n",
       "  <thead>\n",
       "    <tr style=\"text-align: right;\">\n",
       "      <th></th>\n",
       "      <th>High</th>\n",
       "      <th>Low</th>\n",
       "      <th>Open</th>\n",
       "      <th>Close</th>\n",
       "      <th>Volume</th>\n",
       "      <th>Adj Close</th>\n",
       "    </tr>\n",
       "    <tr>\n",
       "      <th>Date</th>\n",
       "      <th></th>\n",
       "      <th></th>\n",
       "      <th></th>\n",
       "      <th></th>\n",
       "      <th></th>\n",
       "      <th></th>\n",
       "    </tr>\n",
       "  </thead>\n",
       "  <tbody>\n",
       "    <tr>\n",
       "      <th>2022-09-20</th>\n",
       "      <td>31.600000</td>\n",
       "      <td>30.840000</td>\n",
       "      <td>31.420000</td>\n",
       "      <td>31.090000</td>\n",
       "      <td>67798200.0</td>\n",
       "      <td>31.090000</td>\n",
       "    </tr>\n",
       "    <tr>\n",
       "      <th>2022-09-21</th>\n",
       "      <td>31.469999</td>\n",
       "      <td>30.889999</td>\n",
       "      <td>31.350000</td>\n",
       "      <td>31.170000</td>\n",
       "      <td>58812200.0</td>\n",
       "      <td>31.170000</td>\n",
       "    </tr>\n",
       "    <tr>\n",
       "      <th>2022-09-22</th>\n",
       "      <td>32.080002</td>\n",
       "      <td>31.030001</td>\n",
       "      <td>31.480000</td>\n",
       "      <td>31.940001</td>\n",
       "      <td>69764300.0</td>\n",
       "      <td>31.940001</td>\n",
       "    </tr>\n",
       "    <tr>\n",
       "      <th>2022-09-23</th>\n",
       "      <td>31.389999</td>\n",
       "      <td>29.770000</td>\n",
       "      <td>31.320000</td>\n",
       "      <td>29.940001</td>\n",
       "      <td>138630800.0</td>\n",
       "      <td>29.940001</td>\n",
       "    </tr>\n",
       "    <tr>\n",
       "      <th>2022-09-26</th>\n",
       "      <td>30.080000</td>\n",
       "      <td>29.469999</td>\n",
       "      <td>29.719999</td>\n",
       "      <td>29.809999</td>\n",
       "      <td>26453600.0</td>\n",
       "      <td>29.809999</td>\n",
       "    </tr>\n",
       "  </tbody>\n",
       "</table>\n",
       "</div>"
      ],
      "text/plain": [
       "                 High        Low       Open      Close       Volume  Adj Close\n",
       "Date                                                                          \n",
       "2022-09-20  31.600000  30.840000  31.420000  31.090000   67798200.0  31.090000\n",
       "2022-09-21  31.469999  30.889999  31.350000  31.170000   58812200.0  31.170000\n",
       "2022-09-22  32.080002  31.030001  31.480000  31.940001   69764300.0  31.940001\n",
       "2022-09-23  31.389999  29.770000  31.320000  29.940001  138630800.0  29.940001\n",
       "2022-09-26  30.080000  29.469999  29.719999  29.809999   26453600.0  29.809999"
      ]
     },
     "execution_count": 368,
     "metadata": {},
     "output_type": "execute_result"
    }
   ],
   "source": [
    "df.tail()"
   ]
  },
  {
   "cell_type": "code",
   "execution_count": 369,
   "metadata": {},
   "outputs": [
    {
     "data": {
      "text/html": [
       "<div>\n",
       "<style scoped>\n",
       "    .dataframe tbody tr th:only-of-type {\n",
       "        vertical-align: middle;\n",
       "    }\n",
       "\n",
       "    .dataframe tbody tr th {\n",
       "        vertical-align: top;\n",
       "    }\n",
       "\n",
       "    .dataframe thead th {\n",
       "        text-align: right;\n",
       "    }\n",
       "</style>\n",
       "<table border=\"1\" class=\"dataframe\">\n",
       "  <thead>\n",
       "    <tr style=\"text-align: right;\">\n",
       "      <th></th>\n",
       "      <th>High</th>\n",
       "      <th>Low</th>\n",
       "      <th>Open</th>\n",
       "      <th>Close</th>\n",
       "      <th>Volume</th>\n",
       "      <th>Adj Close</th>\n",
       "      <th>simp_return</th>\n",
       "    </tr>\n",
       "    <tr>\n",
       "      <th>Date</th>\n",
       "      <th></th>\n",
       "      <th></th>\n",
       "      <th></th>\n",
       "      <th></th>\n",
       "      <th></th>\n",
       "      <th></th>\n",
       "      <th></th>\n",
       "    </tr>\n",
       "  </thead>\n",
       "  <tbody>\n",
       "    <tr>\n",
       "      <th>2021-01-04</th>\n",
       "      <td>29.18</td>\n",
       "      <td>28.530001</td>\n",
       "      <td>28.650000</td>\n",
       "      <td>28.910000</td>\n",
       "      <td>74719700.0</td>\n",
       "      <td>15.694896</td>\n",
       "      <td>NaN</td>\n",
       "    </tr>\n",
       "    <tr>\n",
       "      <th>2021-01-05</th>\n",
       "      <td>30.18</td>\n",
       "      <td>28.240000</td>\n",
       "      <td>28.900000</td>\n",
       "      <td>30.040001</td>\n",
       "      <td>95181100.0</td>\n",
       "      <td>16.308359</td>\n",
       "      <td>0.039087</td>\n",
       "    </tr>\n",
       "    <tr>\n",
       "      <th>2021-01-06</th>\n",
       "      <td>30.90</td>\n",
       "      <td>30.049999</td>\n",
       "      <td>30.160000</td>\n",
       "      <td>30.100000</td>\n",
       "      <td>96562500.0</td>\n",
       "      <td>16.340933</td>\n",
       "      <td>0.001997</td>\n",
       "    </tr>\n",
       "    <tr>\n",
       "      <th>2021-01-07</th>\n",
       "      <td>31.15</td>\n",
       "      <td>30.340000</td>\n",
       "      <td>30.340000</td>\n",
       "      <td>31.000000</td>\n",
       "      <td>56171300.0</td>\n",
       "      <td>16.829531</td>\n",
       "      <td>0.029900</td>\n",
       "    </tr>\n",
       "    <tr>\n",
       "      <th>2021-01-08</th>\n",
       "      <td>31.76</td>\n",
       "      <td>30.350000</td>\n",
       "      <td>31.459999</td>\n",
       "      <td>31.120001</td>\n",
       "      <td>67136300.0</td>\n",
       "      <td>16.894678</td>\n",
       "      <td>0.003871</td>\n",
       "    </tr>\n",
       "  </tbody>\n",
       "</table>\n",
       "</div>"
      ],
      "text/plain": [
       "             High        Low       Open      Close      Volume  Adj Close  \\\n",
       "Date                                                                        \n",
       "2021-01-04  29.18  28.530001  28.650000  28.910000  74719700.0  15.694896   \n",
       "2021-01-05  30.18  28.240000  28.900000  30.040001  95181100.0  16.308359   \n",
       "2021-01-06  30.90  30.049999  30.160000  30.100000  96562500.0  16.340933   \n",
       "2021-01-07  31.15  30.340000  30.340000  31.000000  56171300.0  16.829531   \n",
       "2021-01-08  31.76  30.350000  31.459999  31.120001  67136300.0  16.894678   \n",
       "\n",
       "            simp_return  \n",
       "Date                     \n",
       "2021-01-04          NaN  \n",
       "2021-01-05     0.039087  \n",
       "2021-01-06     0.001997  \n",
       "2021-01-07     0.029900  \n",
       "2021-01-08     0.003871  "
      ]
     },
     "execution_count": 369,
     "metadata": {},
     "output_type": "execute_result"
    }
   ],
   "source": [
    "df['simp_return'] = df['Close'].pct_change()\n",
    "df.head(5)"
   ]
  },
  {
   "cell_type": "code",
   "execution_count": 370,
   "metadata": {},
   "outputs": [
    {
     "data": {
      "text/html": [
       "<div>\n",
       "<style scoped>\n",
       "    .dataframe tbody tr th:only-of-type {\n",
       "        vertical-align: middle;\n",
       "    }\n",
       "\n",
       "    .dataframe tbody tr th {\n",
       "        vertical-align: top;\n",
       "    }\n",
       "\n",
       "    .dataframe thead th {\n",
       "        text-align: right;\n",
       "    }\n",
       "</style>\n",
       "<table border=\"1\" class=\"dataframe\">\n",
       "  <thead>\n",
       "    <tr style=\"text-align: right;\">\n",
       "      <th></th>\n",
       "      <th>High</th>\n",
       "      <th>Low</th>\n",
       "      <th>Open</th>\n",
       "      <th>Close</th>\n",
       "      <th>Volume</th>\n",
       "      <th>Adj Close</th>\n",
       "      <th>simp_return</th>\n",
       "      <th>simp_ret_cum</th>\n",
       "    </tr>\n",
       "    <tr>\n",
       "      <th>Date</th>\n",
       "      <th></th>\n",
       "      <th></th>\n",
       "      <th></th>\n",
       "      <th></th>\n",
       "      <th></th>\n",
       "      <th></th>\n",
       "      <th></th>\n",
       "      <th></th>\n",
       "    </tr>\n",
       "  </thead>\n",
       "  <tbody>\n",
       "    <tr>\n",
       "      <th>2022-09-20</th>\n",
       "      <td>31.600000</td>\n",
       "      <td>30.840000</td>\n",
       "      <td>31.420000</td>\n",
       "      <td>31.090000</td>\n",
       "      <td>67798200.0</td>\n",
       "      <td>31.090000</td>\n",
       "      <td>-0.005756</td>\n",
       "      <td>0.075406</td>\n",
       "    </tr>\n",
       "    <tr>\n",
       "      <th>2022-09-21</th>\n",
       "      <td>31.469999</td>\n",
       "      <td>30.889999</td>\n",
       "      <td>31.350000</td>\n",
       "      <td>31.170000</td>\n",
       "      <td>58812200.0</td>\n",
       "      <td>31.170000</td>\n",
       "      <td>0.002573</td>\n",
       "      <td>0.078174</td>\n",
       "    </tr>\n",
       "    <tr>\n",
       "      <th>2022-09-22</th>\n",
       "      <td>32.080002</td>\n",
       "      <td>31.030001</td>\n",
       "      <td>31.480000</td>\n",
       "      <td>31.940001</td>\n",
       "      <td>69764300.0</td>\n",
       "      <td>31.940001</td>\n",
       "      <td>0.024703</td>\n",
       "      <td>0.104808</td>\n",
       "    </tr>\n",
       "    <tr>\n",
       "      <th>2022-09-23</th>\n",
       "      <td>31.389999</td>\n",
       "      <td>29.770000</td>\n",
       "      <td>31.320000</td>\n",
       "      <td>29.940001</td>\n",
       "      <td>138630800.0</td>\n",
       "      <td>29.940001</td>\n",
       "      <td>-0.062617</td>\n",
       "      <td>0.035628</td>\n",
       "    </tr>\n",
       "    <tr>\n",
       "      <th>2022-09-26</th>\n",
       "      <td>30.080000</td>\n",
       "      <td>29.469999</td>\n",
       "      <td>29.719999</td>\n",
       "      <td>29.809999</td>\n",
       "      <td>26453600.0</td>\n",
       "      <td>29.809999</td>\n",
       "      <td>-0.004342</td>\n",
       "      <td>0.031131</td>\n",
       "    </tr>\n",
       "  </tbody>\n",
       "</table>\n",
       "</div>"
      ],
      "text/plain": [
       "                 High        Low       Open      Close       Volume  \\\n",
       "Date                                                                  \n",
       "2022-09-20  31.600000  30.840000  31.420000  31.090000   67798200.0   \n",
       "2022-09-21  31.469999  30.889999  31.350000  31.170000   58812200.0   \n",
       "2022-09-22  32.080002  31.030001  31.480000  31.940001   69764300.0   \n",
       "2022-09-23  31.389999  29.770000  31.320000  29.940001  138630800.0   \n",
       "2022-09-26  30.080000  29.469999  29.719999  29.809999   26453600.0   \n",
       "\n",
       "            Adj Close  simp_return  simp_ret_cum  \n",
       "Date                                              \n",
       "2022-09-20  31.090000    -0.005756      0.075406  \n",
       "2022-09-21  31.170000     0.002573      0.078174  \n",
       "2022-09-22  31.940001     0.024703      0.104808  \n",
       "2022-09-23  29.940001    -0.062617      0.035628  \n",
       "2022-09-26  29.809999    -0.004342      0.031131  "
      ]
     },
     "execution_count": 370,
     "metadata": {},
     "output_type": "execute_result"
    }
   ],
   "source": [
    "df['simp_ret_cum'] = (df['simp_return'] + 1).cumprod()-1\n",
    "df.tail()"
   ]
  },
  {
   "cell_type": "code",
   "execution_count": 371,
   "metadata": {},
   "outputs": [
    {
     "data": {
      "text/html": [
       "<div>\n",
       "<style scoped>\n",
       "    .dataframe tbody tr th:only-of-type {\n",
       "        vertical-align: middle;\n",
       "    }\n",
       "\n",
       "    .dataframe tbody tr th {\n",
       "        vertical-align: top;\n",
       "    }\n",
       "\n",
       "    .dataframe thead th {\n",
       "        text-align: right;\n",
       "    }\n",
       "</style>\n",
       "<table border=\"1\" class=\"dataframe\">\n",
       "  <thead>\n",
       "    <tr style=\"text-align: right;\">\n",
       "      <th></th>\n",
       "      <th>High</th>\n",
       "      <th>Low</th>\n",
       "      <th>Open</th>\n",
       "      <th>Close</th>\n",
       "      <th>Volume</th>\n",
       "      <th>Adj Close</th>\n",
       "      <th>simp_return</th>\n",
       "      <th>simp_ret_cum</th>\n",
       "      <th>log_return</th>\n",
       "    </tr>\n",
       "    <tr>\n",
       "      <th>Date</th>\n",
       "      <th></th>\n",
       "      <th></th>\n",
       "      <th></th>\n",
       "      <th></th>\n",
       "      <th></th>\n",
       "      <th></th>\n",
       "      <th></th>\n",
       "      <th></th>\n",
       "      <th></th>\n",
       "    </tr>\n",
       "  </thead>\n",
       "  <tbody>\n",
       "    <tr>\n",
       "      <th>2021-01-04</th>\n",
       "      <td>29.18</td>\n",
       "      <td>28.530001</td>\n",
       "      <td>28.650000</td>\n",
       "      <td>28.910000</td>\n",
       "      <td>74719700.0</td>\n",
       "      <td>15.694896</td>\n",
       "      <td>NaN</td>\n",
       "      <td>NaN</td>\n",
       "      <td>NaN</td>\n",
       "    </tr>\n",
       "    <tr>\n",
       "      <th>2021-01-05</th>\n",
       "      <td>30.18</td>\n",
       "      <td>28.240000</td>\n",
       "      <td>28.900000</td>\n",
       "      <td>30.040001</td>\n",
       "      <td>95181100.0</td>\n",
       "      <td>16.308359</td>\n",
       "      <td>0.039087</td>\n",
       "      <td>0.039087</td>\n",
       "      <td>0.038342</td>\n",
       "    </tr>\n",
       "    <tr>\n",
       "      <th>2021-01-06</th>\n",
       "      <td>30.90</td>\n",
       "      <td>30.049999</td>\n",
       "      <td>30.160000</td>\n",
       "      <td>30.100000</td>\n",
       "      <td>96562500.0</td>\n",
       "      <td>16.340933</td>\n",
       "      <td>0.001997</td>\n",
       "      <td>0.041162</td>\n",
       "      <td>0.001995</td>\n",
       "    </tr>\n",
       "    <tr>\n",
       "      <th>2021-01-07</th>\n",
       "      <td>31.15</td>\n",
       "      <td>30.340000</td>\n",
       "      <td>30.340000</td>\n",
       "      <td>31.000000</td>\n",
       "      <td>56171300.0</td>\n",
       "      <td>16.829531</td>\n",
       "      <td>0.029900</td>\n",
       "      <td>0.072293</td>\n",
       "      <td>0.029462</td>\n",
       "    </tr>\n",
       "    <tr>\n",
       "      <th>2021-01-08</th>\n",
       "      <td>31.76</td>\n",
       "      <td>30.350000</td>\n",
       "      <td>31.459999</td>\n",
       "      <td>31.120001</td>\n",
       "      <td>67136300.0</td>\n",
       "      <td>16.894678</td>\n",
       "      <td>0.003871</td>\n",
       "      <td>0.076444</td>\n",
       "      <td>0.003864</td>\n",
       "    </tr>\n",
       "  </tbody>\n",
       "</table>\n",
       "</div>"
      ],
      "text/plain": [
       "             High        Low       Open      Close      Volume  Adj Close  \\\n",
       "Date                                                                        \n",
       "2021-01-04  29.18  28.530001  28.650000  28.910000  74719700.0  15.694896   \n",
       "2021-01-05  30.18  28.240000  28.900000  30.040001  95181100.0  16.308359   \n",
       "2021-01-06  30.90  30.049999  30.160000  30.100000  96562500.0  16.340933   \n",
       "2021-01-07  31.15  30.340000  30.340000  31.000000  56171300.0  16.829531   \n",
       "2021-01-08  31.76  30.350000  31.459999  31.120001  67136300.0  16.894678   \n",
       "\n",
       "            simp_return  simp_ret_cum  log_return  \n",
       "Date                                               \n",
       "2021-01-04          NaN           NaN         NaN  \n",
       "2021-01-05     0.039087      0.039087    0.038342  \n",
       "2021-01-06     0.001997      0.041162    0.001995  \n",
       "2021-01-07     0.029900      0.072293    0.029462  \n",
       "2021-01-08     0.003871      0.076444    0.003864  "
      ]
     },
     "execution_count": 371,
     "metadata": {},
     "output_type": "execute_result"
    }
   ],
   "source": [
    "df['log_return'] = np.log(df['Close']/df['Close'].shift(1))\n",
    "df.head(5)"
   ]
  },
  {
   "cell_type": "code",
   "execution_count": 372,
   "metadata": {},
   "outputs": [
    {
     "data": {
      "text/html": [
       "<div>\n",
       "<style scoped>\n",
       "    .dataframe tbody tr th:only-of-type {\n",
       "        vertical-align: middle;\n",
       "    }\n",
       "\n",
       "    .dataframe tbody tr th {\n",
       "        vertical-align: top;\n",
       "    }\n",
       "\n",
       "    .dataframe thead th {\n",
       "        text-align: right;\n",
       "    }\n",
       "</style>\n",
       "<table border=\"1\" class=\"dataframe\">\n",
       "  <thead>\n",
       "    <tr style=\"text-align: right;\">\n",
       "      <th></th>\n",
       "      <th>High</th>\n",
       "      <th>Low</th>\n",
       "      <th>Open</th>\n",
       "      <th>Close</th>\n",
       "      <th>Volume</th>\n",
       "      <th>Adj Close</th>\n",
       "      <th>simp_return</th>\n",
       "      <th>simp_ret_cum</th>\n",
       "      <th>log_return</th>\n",
       "      <th>log_ret_cum</th>\n",
       "    </tr>\n",
       "    <tr>\n",
       "      <th>Date</th>\n",
       "      <th></th>\n",
       "      <th></th>\n",
       "      <th></th>\n",
       "      <th></th>\n",
       "      <th></th>\n",
       "      <th></th>\n",
       "      <th></th>\n",
       "      <th></th>\n",
       "      <th></th>\n",
       "      <th></th>\n",
       "    </tr>\n",
       "  </thead>\n",
       "  <tbody>\n",
       "    <tr>\n",
       "      <th>2022-09-20</th>\n",
       "      <td>31.600000</td>\n",
       "      <td>30.840000</td>\n",
       "      <td>31.420000</td>\n",
       "      <td>31.090000</td>\n",
       "      <td>67798200.0</td>\n",
       "      <td>31.090000</td>\n",
       "      <td>-0.005756</td>\n",
       "      <td>0.075406</td>\n",
       "      <td>-0.005773</td>\n",
       "      <td>0.072699</td>\n",
       "    </tr>\n",
       "    <tr>\n",
       "      <th>2022-09-21</th>\n",
       "      <td>31.469999</td>\n",
       "      <td>30.889999</td>\n",
       "      <td>31.350000</td>\n",
       "      <td>31.170000</td>\n",
       "      <td>58812200.0</td>\n",
       "      <td>31.170000</td>\n",
       "      <td>0.002573</td>\n",
       "      <td>0.078174</td>\n",
       "      <td>0.002570</td>\n",
       "      <td>0.075269</td>\n",
       "    </tr>\n",
       "    <tr>\n",
       "      <th>2022-09-22</th>\n",
       "      <td>32.080002</td>\n",
       "      <td>31.030001</td>\n",
       "      <td>31.480000</td>\n",
       "      <td>31.940001</td>\n",
       "      <td>69764300.0</td>\n",
       "      <td>31.940001</td>\n",
       "      <td>0.024703</td>\n",
       "      <td>0.104808</td>\n",
       "      <td>0.024403</td>\n",
       "      <td>0.099672</td>\n",
       "    </tr>\n",
       "    <tr>\n",
       "      <th>2022-09-23</th>\n",
       "      <td>31.389999</td>\n",
       "      <td>29.770000</td>\n",
       "      <td>31.320000</td>\n",
       "      <td>29.940001</td>\n",
       "      <td>138630800.0</td>\n",
       "      <td>29.940001</td>\n",
       "      <td>-0.062617</td>\n",
       "      <td>0.035628</td>\n",
       "      <td>-0.064664</td>\n",
       "      <td>0.035008</td>\n",
       "    </tr>\n",
       "    <tr>\n",
       "      <th>2022-09-26</th>\n",
       "      <td>30.080000</td>\n",
       "      <td>29.469999</td>\n",
       "      <td>29.719999</td>\n",
       "      <td>29.809999</td>\n",
       "      <td>26453600.0</td>\n",
       "      <td>29.809999</td>\n",
       "      <td>-0.004342</td>\n",
       "      <td>0.031131</td>\n",
       "      <td>-0.004352</td>\n",
       "      <td>0.030656</td>\n",
       "    </tr>\n",
       "  </tbody>\n",
       "</table>\n",
       "</div>"
      ],
      "text/plain": [
       "                 High        Low       Open      Close       Volume  \\\n",
       "Date                                                                  \n",
       "2022-09-20  31.600000  30.840000  31.420000  31.090000   67798200.0   \n",
       "2022-09-21  31.469999  30.889999  31.350000  31.170000   58812200.0   \n",
       "2022-09-22  32.080002  31.030001  31.480000  31.940001   69764300.0   \n",
       "2022-09-23  31.389999  29.770000  31.320000  29.940001  138630800.0   \n",
       "2022-09-26  30.080000  29.469999  29.719999  29.809999   26453600.0   \n",
       "\n",
       "            Adj Close  simp_return  simp_ret_cum  log_return  log_ret_cum  \n",
       "Date                                                                       \n",
       "2022-09-20  31.090000    -0.005756      0.075406   -0.005773     0.072699  \n",
       "2022-09-21  31.170000     0.002573      0.078174    0.002570     0.075269  \n",
       "2022-09-22  31.940001     0.024703      0.104808    0.024403     0.099672  \n",
       "2022-09-23  29.940001    -0.062617      0.035628   -0.064664     0.035008  \n",
       "2022-09-26  29.809999    -0.004342      0.031131   -0.004352     0.030656  "
      ]
     },
     "execution_count": 372,
     "metadata": {},
     "output_type": "execute_result"
    }
   ],
   "source": [
    "df['log_ret_cum'] = df['log_return'].cumsum()\n",
    "df.tail(5)"
   ]
  },
  {
   "cell_type": "code",
   "execution_count": 373,
   "metadata": {},
   "outputs": [
    {
     "data": {
      "text/html": [
       "<div>\n",
       "<style scoped>\n",
       "    .dataframe tbody tr th:only-of-type {\n",
       "        vertical-align: middle;\n",
       "    }\n",
       "\n",
       "    .dataframe tbody tr th {\n",
       "        vertical-align: top;\n",
       "    }\n",
       "\n",
       "    .dataframe thead th {\n",
       "        text-align: right;\n",
       "    }\n",
       "</style>\n",
       "<table border=\"1\" class=\"dataframe\">\n",
       "  <thead>\n",
       "    <tr style=\"text-align: right;\">\n",
       "      <th></th>\n",
       "      <th>High</th>\n",
       "      <th>Low</th>\n",
       "      <th>Open</th>\n",
       "      <th>Close</th>\n",
       "      <th>Volume</th>\n",
       "      <th>Adj Close</th>\n",
       "      <th>simp_return</th>\n",
       "      <th>simp_ret_cum</th>\n",
       "      <th>log_return</th>\n",
       "      <th>log_ret_cum</th>\n",
       "    </tr>\n",
       "    <tr>\n",
       "      <th>Date</th>\n",
       "      <th></th>\n",
       "      <th></th>\n",
       "      <th></th>\n",
       "      <th></th>\n",
       "      <th></th>\n",
       "      <th></th>\n",
       "      <th></th>\n",
       "      <th></th>\n",
       "      <th></th>\n",
       "      <th></th>\n",
       "    </tr>\n",
       "  </thead>\n",
       "  <tbody>\n",
       "    <tr>\n",
       "      <th>2021-01-04</th>\n",
       "      <td>29.180000</td>\n",
       "      <td>28.530001</td>\n",
       "      <td>28.650000</td>\n",
       "      <td>28.910000</td>\n",
       "      <td>74719700.0</td>\n",
       "      <td>15.694896</td>\n",
       "      <td>NaN</td>\n",
       "      <td>NaN</td>\n",
       "      <td>NaN</td>\n",
       "      <td>NaN</td>\n",
       "    </tr>\n",
       "    <tr>\n",
       "      <th>2021-01-05</th>\n",
       "      <td>30.180000</td>\n",
       "      <td>28.240000</td>\n",
       "      <td>28.900000</td>\n",
       "      <td>30.040001</td>\n",
       "      <td>95181100.0</td>\n",
       "      <td>16.308359</td>\n",
       "      <td>0.039087</td>\n",
       "      <td>0.039087</td>\n",
       "      <td>0.038342</td>\n",
       "      <td>0.038342</td>\n",
       "    </tr>\n",
       "    <tr>\n",
       "      <th>2021-01-06</th>\n",
       "      <td>30.900000</td>\n",
       "      <td>30.049999</td>\n",
       "      <td>30.160000</td>\n",
       "      <td>30.100000</td>\n",
       "      <td>96562500.0</td>\n",
       "      <td>16.340933</td>\n",
       "      <td>0.001997</td>\n",
       "      <td>0.041162</td>\n",
       "      <td>0.001995</td>\n",
       "      <td>0.040338</td>\n",
       "    </tr>\n",
       "    <tr>\n",
       "      <th>2021-01-07</th>\n",
       "      <td>31.150000</td>\n",
       "      <td>30.340000</td>\n",
       "      <td>30.340000</td>\n",
       "      <td>31.000000</td>\n",
       "      <td>56171300.0</td>\n",
       "      <td>16.829531</td>\n",
       "      <td>0.029900</td>\n",
       "      <td>0.072293</td>\n",
       "      <td>0.029462</td>\n",
       "      <td>0.069800</td>\n",
       "    </tr>\n",
       "    <tr>\n",
       "      <th>2021-01-08</th>\n",
       "      <td>31.760000</td>\n",
       "      <td>30.350000</td>\n",
       "      <td>31.459999</td>\n",
       "      <td>31.120001</td>\n",
       "      <td>67136300.0</td>\n",
       "      <td>16.894678</td>\n",
       "      <td>0.003871</td>\n",
       "      <td>0.076444</td>\n",
       "      <td>0.003864</td>\n",
       "      <td>0.073663</td>\n",
       "    </tr>\n",
       "    <tr>\n",
       "      <th>...</th>\n",
       "      <td>...</td>\n",
       "      <td>...</td>\n",
       "      <td>...</td>\n",
       "      <td>...</td>\n",
       "      <td>...</td>\n",
       "      <td>...</td>\n",
       "      <td>...</td>\n",
       "      <td>...</td>\n",
       "      <td>...</td>\n",
       "      <td>...</td>\n",
       "    </tr>\n",
       "    <tr>\n",
       "      <th>2022-09-20</th>\n",
       "      <td>31.600000</td>\n",
       "      <td>30.840000</td>\n",
       "      <td>31.420000</td>\n",
       "      <td>31.090000</td>\n",
       "      <td>67798200.0</td>\n",
       "      <td>31.090000</td>\n",
       "      <td>-0.005756</td>\n",
       "      <td>0.075406</td>\n",
       "      <td>-0.005773</td>\n",
       "      <td>0.072699</td>\n",
       "    </tr>\n",
       "    <tr>\n",
       "      <th>2022-09-21</th>\n",
       "      <td>31.469999</td>\n",
       "      <td>30.889999</td>\n",
       "      <td>31.350000</td>\n",
       "      <td>31.170000</td>\n",
       "      <td>58812200.0</td>\n",
       "      <td>31.170000</td>\n",
       "      <td>0.002573</td>\n",
       "      <td>0.078174</td>\n",
       "      <td>0.002570</td>\n",
       "      <td>0.075269</td>\n",
       "    </tr>\n",
       "    <tr>\n",
       "      <th>2022-09-22</th>\n",
       "      <td>32.080002</td>\n",
       "      <td>31.030001</td>\n",
       "      <td>31.480000</td>\n",
       "      <td>31.940001</td>\n",
       "      <td>69764300.0</td>\n",
       "      <td>31.940001</td>\n",
       "      <td>0.024703</td>\n",
       "      <td>0.104808</td>\n",
       "      <td>0.024403</td>\n",
       "      <td>0.099672</td>\n",
       "    </tr>\n",
       "    <tr>\n",
       "      <th>2022-09-23</th>\n",
       "      <td>31.389999</td>\n",
       "      <td>29.770000</td>\n",
       "      <td>31.320000</td>\n",
       "      <td>29.940001</td>\n",
       "      <td>138630800.0</td>\n",
       "      <td>29.940001</td>\n",
       "      <td>-0.062617</td>\n",
       "      <td>0.035628</td>\n",
       "      <td>-0.064664</td>\n",
       "      <td>0.035008</td>\n",
       "    </tr>\n",
       "    <tr>\n",
       "      <th>2022-09-26</th>\n",
       "      <td>30.080000</td>\n",
       "      <td>29.469999</td>\n",
       "      <td>29.719999</td>\n",
       "      <td>29.809999</td>\n",
       "      <td>26453600.0</td>\n",
       "      <td>29.809999</td>\n",
       "      <td>-0.004342</td>\n",
       "      <td>0.031131</td>\n",
       "      <td>-0.004352</td>\n",
       "      <td>0.030656</td>\n",
       "    </tr>\n",
       "  </tbody>\n",
       "</table>\n",
       "<p>432 rows × 10 columns</p>\n",
       "</div>"
      ],
      "text/plain": [
       "                 High        Low       Open      Close       Volume  \\\n",
       "Date                                                                  \n",
       "2021-01-04  29.180000  28.530001  28.650000  28.910000   74719700.0   \n",
       "2021-01-05  30.180000  28.240000  28.900000  30.040001   95181100.0   \n",
       "2021-01-06  30.900000  30.049999  30.160000  30.100000   96562500.0   \n",
       "2021-01-07  31.150000  30.340000  30.340000  31.000000   56171300.0   \n",
       "2021-01-08  31.760000  30.350000  31.459999  31.120001   67136300.0   \n",
       "...               ...        ...        ...        ...          ...   \n",
       "2022-09-20  31.600000  30.840000  31.420000  31.090000   67798200.0   \n",
       "2022-09-21  31.469999  30.889999  31.350000  31.170000   58812200.0   \n",
       "2022-09-22  32.080002  31.030001  31.480000  31.940001   69764300.0   \n",
       "2022-09-23  31.389999  29.770000  31.320000  29.940001  138630800.0   \n",
       "2022-09-26  30.080000  29.469999  29.719999  29.809999   26453600.0   \n",
       "\n",
       "            Adj Close  simp_return  simp_ret_cum  log_return  log_ret_cum  \n",
       "Date                                                                       \n",
       "2021-01-04  15.694896          NaN           NaN         NaN          NaN  \n",
       "2021-01-05  16.308359     0.039087      0.039087    0.038342     0.038342  \n",
       "2021-01-06  16.340933     0.001997      0.041162    0.001995     0.040338  \n",
       "2021-01-07  16.829531     0.029900      0.072293    0.029462     0.069800  \n",
       "2021-01-08  16.894678     0.003871      0.076444    0.003864     0.073663  \n",
       "...               ...          ...           ...         ...          ...  \n",
       "2022-09-20  31.090000    -0.005756      0.075406   -0.005773     0.072699  \n",
       "2022-09-21  31.170000     0.002573      0.078174    0.002570     0.075269  \n",
       "2022-09-22  31.940001     0.024703      0.104808    0.024403     0.099672  \n",
       "2022-09-23  29.940001    -0.062617      0.035628   -0.064664     0.035008  \n",
       "2022-09-26  29.809999    -0.004342      0.031131   -0.004352     0.030656  \n",
       "\n",
       "[432 rows x 10 columns]"
      ]
     },
     "execution_count": 373,
     "metadata": {},
     "output_type": "execute_result"
    }
   ],
   "source": [
    "df"
   ]
  },
  {
   "cell_type": "code",
   "execution_count": 374,
   "metadata": {},
   "outputs": [
    {
     "data": {
      "text/html": [
       "<div>\n",
       "<style scoped>\n",
       "    .dataframe tbody tr th:only-of-type {\n",
       "        vertical-align: middle;\n",
       "    }\n",
       "\n",
       "    .dataframe tbody tr th {\n",
       "        vertical-align: top;\n",
       "    }\n",
       "\n",
       "    .dataframe thead th {\n",
       "        text-align: right;\n",
       "    }\n",
       "</style>\n",
       "<table border=\"1\" class=\"dataframe\">\n",
       "  <thead>\n",
       "    <tr style=\"text-align: right;\">\n",
       "      <th></th>\n",
       "      <th>Date</th>\n",
       "      <th>simp_ret_cum</th>\n",
       "    </tr>\n",
       "  </thead>\n",
       "  <tbody>\n",
       "    <tr>\n",
       "      <th>0</th>\n",
       "      <td>2021-01-04</td>\n",
       "      <td>NaN</td>\n",
       "    </tr>\n",
       "    <tr>\n",
       "      <th>1</th>\n",
       "      <td>2021-01-05</td>\n",
       "      <td>0.039087</td>\n",
       "    </tr>\n",
       "    <tr>\n",
       "      <th>2</th>\n",
       "      <td>2021-01-06</td>\n",
       "      <td>0.041162</td>\n",
       "    </tr>\n",
       "    <tr>\n",
       "      <th>3</th>\n",
       "      <td>2021-01-07</td>\n",
       "      <td>0.072293</td>\n",
       "    </tr>\n",
       "    <tr>\n",
       "      <th>4</th>\n",
       "      <td>2021-01-08</td>\n",
       "      <td>0.076444</td>\n",
       "    </tr>\n",
       "  </tbody>\n",
       "</table>\n",
       "</div>"
      ],
      "text/plain": [
       "        Date  simp_ret_cum\n",
       "0 2021-01-04           NaN\n",
       "1 2021-01-05      0.039087\n",
       "2 2021-01-06      0.041162\n",
       "3 2021-01-07      0.072293\n",
       "4 2021-01-08      0.076444"
      ]
     },
     "execution_count": 374,
     "metadata": {},
     "output_type": "execute_result"
    }
   ],
   "source": [
    "df_retorno = pd.DataFrame(df['simp_ret_cum'])\n",
    "\n",
    "df_retorno.reset_index(inplace=True)\n",
    "\n",
    "df_retorno.head()"
   ]
  },
  {
   "cell_type": "code",
   "execution_count": 375,
   "metadata": {},
   "outputs": [
    {
     "data": {
      "text/plain": [
       "0     2021-01-04\n",
       "1     2021-01-05\n",
       "2     2021-01-06\n",
       "3     2021-01-07\n",
       "4     2021-01-08\n",
       "         ...    \n",
       "427   2022-09-20\n",
       "428   2022-09-21\n",
       "429   2022-09-22\n",
       "430   2022-09-23\n",
       "431   2022-09-26\n",
       "Name: Date, Length: 432, dtype: datetime64[ns]"
      ]
     },
     "execution_count": 375,
     "metadata": {},
     "output_type": "execute_result"
    }
   ],
   "source": [
    "df_retorno['Date']"
   ]
  },
  {
   "cell_type": "code",
   "execution_count": 376,
   "metadata": {},
   "outputs": [
    {
     "data": {
      "text/plain": [
       "pandas.core.frame.DataFrame"
      ]
     },
     "execution_count": 376,
     "metadata": {},
     "output_type": "execute_result"
    }
   ],
   "source": [
    "type(df_retorno)"
   ]
  },
  {
   "cell_type": "code",
   "execution_count": 274,
   "metadata": {},
   "outputs": [
    {
     "name": "stderr",
     "output_type": "stream",
     "text": [
      "C:\\Users\\andre\\AppData\\Local\\Temp\\ipykernel_592\\1614919697.py:1: RuntimeWarning: divide by zero encountered in true_divide\n",
      "  retorno = ((simp_return_array[1:431] - simp_return_array[0:430]) / simp_return_array[0:430]) / 100\n"
     ]
    }
   ],
   "source": [
    "retorno = ((simp_return_array[1:431] - simp_return_array[0:430]) / simp_return_array[0:430]) / 100"
   ]
  },
  {
   "cell_type": "code",
   "execution_count": 394,
   "metadata": {},
   "outputs": [
    {
     "data": {
      "application/vnd.plotly.v1+json": {
       "config": {
        "plotlyServerURL": "https://plot.ly"
       },
       "data": [
        {
         "hovertemplate": "Date=%{x|%B %d, %Y}<br>simp_ret_cum=%{y}<extra></extra>",
         "legendgroup": "",
         "line": {
          "color": "#636efa",
          "dash": "solid"
         },
         "marker": {
          "symbol": "circle"
         },
         "mode": "lines",
         "name": "",
         "orientation": "v",
         "showlegend": false,
         "type": "scatter",
         "x": [
          "2021-01-04T00:00:00",
          "2021-01-05T00:00:00",
          "2021-01-06T00:00:00",
          "2021-01-07T00:00:00",
          "2021-01-08T00:00:00",
          "2021-01-11T00:00:00",
          "2021-01-12T00:00:00",
          "2021-01-13T00:00:00",
          "2021-01-14T00:00:00",
          "2021-01-15T00:00:00",
          "2021-01-18T00:00:00",
          "2021-01-19T00:00:00",
          "2021-01-20T00:00:00",
          "2021-01-21T00:00:00",
          "2021-01-22T00:00:00",
          "2021-01-26T00:00:00",
          "2021-01-27T00:00:00",
          "2021-01-28T00:00:00",
          "2021-01-29T00:00:00",
          "2021-02-01T00:00:00",
          "2021-02-02T00:00:00",
          "2021-02-03T00:00:00",
          "2021-02-04T00:00:00",
          "2021-02-05T00:00:00",
          "2021-02-08T00:00:00",
          "2021-02-09T00:00:00",
          "2021-02-10T00:00:00",
          "2021-02-11T00:00:00",
          "2021-02-12T00:00:00",
          "2021-02-17T00:00:00",
          "2021-02-18T00:00:00",
          "2021-02-19T00:00:00",
          "2021-02-22T00:00:00",
          "2021-02-23T00:00:00",
          "2021-02-24T00:00:00",
          "2021-02-25T00:00:00",
          "2021-02-26T00:00:00",
          "2021-03-01T00:00:00",
          "2021-03-02T00:00:00",
          "2021-03-03T00:00:00",
          "2021-03-04T00:00:00",
          "2021-03-05T00:00:00",
          "2021-03-08T00:00:00",
          "2021-03-09T00:00:00",
          "2021-03-10T00:00:00",
          "2021-03-11T00:00:00",
          "2021-03-12T00:00:00",
          "2021-03-15T00:00:00",
          "2021-03-16T00:00:00",
          "2021-03-17T00:00:00",
          "2021-03-18T00:00:00",
          "2021-03-19T00:00:00",
          "2021-03-22T00:00:00",
          "2021-03-23T00:00:00",
          "2021-03-24T00:00:00",
          "2021-03-25T00:00:00",
          "2021-03-26T00:00:00",
          "2021-03-29T00:00:00",
          "2021-03-30T00:00:00",
          "2021-03-31T00:00:00",
          "2021-04-01T00:00:00",
          "2021-04-05T00:00:00",
          "2021-04-06T00:00:00",
          "2021-04-07T00:00:00",
          "2021-04-08T00:00:00",
          "2021-04-09T00:00:00",
          "2021-04-12T00:00:00",
          "2021-04-13T00:00:00",
          "2021-04-14T00:00:00",
          "2021-04-15T00:00:00",
          "2021-04-16T00:00:00",
          "2021-04-19T00:00:00",
          "2021-04-20T00:00:00",
          "2021-04-22T00:00:00",
          "2021-04-23T00:00:00",
          "2021-04-26T00:00:00",
          "2021-04-27T00:00:00",
          "2021-04-28T00:00:00",
          "2021-04-29T00:00:00",
          "2021-04-30T00:00:00",
          "2021-05-03T00:00:00",
          "2021-05-04T00:00:00",
          "2021-05-05T00:00:00",
          "2021-05-06T00:00:00",
          "2021-05-07T00:00:00",
          "2021-05-10T00:00:00",
          "2021-05-11T00:00:00",
          "2021-05-12T00:00:00",
          "2021-05-13T00:00:00",
          "2021-05-14T00:00:00",
          "2021-05-17T00:00:00",
          "2021-05-18T00:00:00",
          "2021-05-19T00:00:00",
          "2021-05-20T00:00:00",
          "2021-05-21T00:00:00",
          "2021-05-24T00:00:00",
          "2021-05-25T00:00:00",
          "2021-05-26T00:00:00",
          "2021-05-27T00:00:00",
          "2021-05-28T00:00:00",
          "2021-05-31T00:00:00",
          "2021-06-01T00:00:00",
          "2021-06-02T00:00:00",
          "2021-06-04T00:00:00",
          "2021-06-07T00:00:00",
          "2021-06-08T00:00:00",
          "2021-06-09T00:00:00",
          "2021-06-10T00:00:00",
          "2021-06-11T00:00:00",
          "2021-06-14T00:00:00",
          "2021-06-15T00:00:00",
          "2021-06-16T00:00:00",
          "2021-06-17T00:00:00",
          "2021-06-18T00:00:00",
          "2021-06-21T00:00:00",
          "2021-06-22T00:00:00",
          "2021-06-23T00:00:00",
          "2021-06-24T00:00:00",
          "2021-06-25T00:00:00",
          "2021-06-28T00:00:00",
          "2021-06-29T00:00:00",
          "2021-06-30T00:00:00",
          "2021-07-01T00:00:00",
          "2021-07-02T00:00:00",
          "2021-07-05T00:00:00",
          "2021-07-06T00:00:00",
          "2021-07-07T00:00:00",
          "2021-07-08T00:00:00",
          "2021-07-12T00:00:00",
          "2021-07-13T00:00:00",
          "2021-07-14T00:00:00",
          "2021-07-15T00:00:00",
          "2021-07-16T00:00:00",
          "2021-07-19T00:00:00",
          "2021-07-20T00:00:00",
          "2021-07-21T00:00:00",
          "2021-07-22T00:00:00",
          "2021-07-23T00:00:00",
          "2021-07-26T00:00:00",
          "2021-07-27T00:00:00",
          "2021-07-28T00:00:00",
          "2021-07-29T00:00:00",
          "2021-07-30T00:00:00",
          "2021-08-02T00:00:00",
          "2021-08-03T00:00:00",
          "2021-08-04T00:00:00",
          "2021-08-05T00:00:00",
          "2021-08-06T00:00:00",
          "2021-08-09T00:00:00",
          "2021-08-10T00:00:00",
          "2021-08-11T00:00:00",
          "2021-08-12T00:00:00",
          "2021-08-13T00:00:00",
          "2021-08-16T00:00:00",
          "2021-08-17T00:00:00",
          "2021-08-18T00:00:00",
          "2021-08-19T00:00:00",
          "2021-08-20T00:00:00",
          "2021-08-23T00:00:00",
          "2021-08-24T00:00:00",
          "2021-08-25T00:00:00",
          "2021-08-26T00:00:00",
          "2021-08-27T00:00:00",
          "2021-08-30T00:00:00",
          "2021-08-31T00:00:00",
          "2021-09-01T00:00:00",
          "2021-09-02T00:00:00",
          "2021-09-03T00:00:00",
          "2021-09-06T00:00:00",
          "2021-09-08T00:00:00",
          "2021-09-09T00:00:00",
          "2021-09-10T00:00:00",
          "2021-09-13T00:00:00",
          "2021-09-14T00:00:00",
          "2021-09-15T00:00:00",
          "2021-09-16T00:00:00",
          "2021-09-17T00:00:00",
          "2021-09-20T00:00:00",
          "2021-09-21T00:00:00",
          "2021-09-22T00:00:00",
          "2021-09-23T00:00:00",
          "2021-09-24T00:00:00",
          "2021-09-27T00:00:00",
          "2021-09-28T00:00:00",
          "2021-09-29T00:00:00",
          "2021-09-30T00:00:00",
          "2021-10-01T00:00:00",
          "2021-10-04T00:00:00",
          "2021-10-05T00:00:00",
          "2021-10-06T00:00:00",
          "2021-10-07T00:00:00",
          "2021-10-08T00:00:00",
          "2021-10-11T00:00:00",
          "2021-10-13T00:00:00",
          "2021-10-14T00:00:00",
          "2021-10-15T00:00:00",
          "2021-10-18T00:00:00",
          "2021-10-19T00:00:00",
          "2021-10-20T00:00:00",
          "2021-10-21T00:00:00",
          "2021-10-22T00:00:00",
          "2021-10-25T00:00:00",
          "2021-10-26T00:00:00",
          "2021-10-27T00:00:00",
          "2021-10-28T00:00:00",
          "2021-10-29T00:00:00",
          "2021-11-01T00:00:00",
          "2021-11-03T00:00:00",
          "2021-11-04T00:00:00",
          "2021-11-05T00:00:00",
          "2021-11-08T00:00:00",
          "2021-11-09T00:00:00",
          "2021-11-10T00:00:00",
          "2021-11-11T00:00:00",
          "2021-11-12T00:00:00",
          "2021-11-16T00:00:00",
          "2021-11-17T00:00:00",
          "2021-11-18T00:00:00",
          "2021-11-19T00:00:00",
          "2021-11-22T00:00:00",
          "2021-11-23T00:00:00",
          "2021-11-24T00:00:00",
          "2021-11-25T00:00:00",
          "2021-11-26T00:00:00",
          "2021-11-29T00:00:00",
          "2021-11-30T00:00:00",
          "2021-12-01T00:00:00",
          "2021-12-02T00:00:00",
          "2021-12-03T00:00:00",
          "2021-12-06T00:00:00",
          "2021-12-07T00:00:00",
          "2021-12-08T00:00:00",
          "2021-12-09T00:00:00",
          "2021-12-10T00:00:00",
          "2021-12-13T00:00:00",
          "2021-12-14T00:00:00",
          "2021-12-15T00:00:00",
          "2021-12-16T00:00:00",
          "2021-12-17T00:00:00",
          "2021-12-20T00:00:00",
          "2021-12-21T00:00:00",
          "2021-12-22T00:00:00",
          "2021-12-23T00:00:00",
          "2021-12-27T00:00:00",
          "2021-12-28T00:00:00",
          "2021-12-29T00:00:00",
          "2021-12-30T00:00:00",
          "2022-01-03T00:00:00",
          "2022-01-04T00:00:00",
          "2022-01-05T00:00:00",
          "2022-01-06T00:00:00",
          "2022-01-07T00:00:00",
          "2022-01-10T00:00:00",
          "2022-01-11T00:00:00",
          "2022-01-12T00:00:00",
          "2022-01-13T00:00:00",
          "2022-01-14T00:00:00",
          "2022-01-17T00:00:00",
          "2022-01-18T00:00:00",
          "2022-01-19T00:00:00",
          "2022-01-20T00:00:00",
          "2022-01-21T00:00:00",
          "2022-01-24T00:00:00",
          "2022-01-25T00:00:00",
          "2022-01-26T00:00:00",
          "2022-01-27T00:00:00",
          "2022-01-28T00:00:00",
          "2022-01-31T00:00:00",
          "2022-02-01T00:00:00",
          "2022-02-02T00:00:00",
          "2022-02-03T00:00:00",
          "2022-02-04T00:00:00",
          "2022-02-07T00:00:00",
          "2022-02-08T00:00:00",
          "2022-02-09T00:00:00",
          "2022-02-10T00:00:00",
          "2022-02-11T00:00:00",
          "2022-02-14T00:00:00",
          "2022-02-15T00:00:00",
          "2022-02-16T00:00:00",
          "2022-02-17T00:00:00",
          "2022-02-18T00:00:00",
          "2022-02-21T00:00:00",
          "2022-02-22T00:00:00",
          "2022-02-23T00:00:00",
          "2022-02-24T00:00:00",
          "2022-02-25T00:00:00",
          "2022-03-02T00:00:00",
          "2022-03-03T00:00:00",
          "2022-03-04T00:00:00",
          "2022-03-07T00:00:00",
          "2022-03-08T00:00:00",
          "2022-03-09T00:00:00",
          "2022-03-10T00:00:00",
          "2022-03-11T00:00:00",
          "2022-03-14T00:00:00",
          "2022-03-15T00:00:00",
          "2022-03-16T00:00:00",
          "2022-03-17T00:00:00",
          "2022-03-18T00:00:00",
          "2022-03-21T00:00:00",
          "2022-03-22T00:00:00",
          "2022-03-23T00:00:00",
          "2022-03-24T00:00:00",
          "2022-03-25T00:00:00",
          "2022-03-28T00:00:00",
          "2022-03-29T00:00:00",
          "2022-03-30T00:00:00",
          "2022-03-31T00:00:00",
          "2022-04-01T00:00:00",
          "2022-04-04T00:00:00",
          "2022-04-05T00:00:00",
          "2022-04-06T00:00:00",
          "2022-04-07T00:00:00",
          "2022-04-08T00:00:00",
          "2022-04-11T00:00:00",
          "2022-04-12T00:00:00",
          "2022-04-13T00:00:00",
          "2022-04-14T00:00:00",
          "2022-04-18T00:00:00",
          "2022-04-19T00:00:00",
          "2022-04-20T00:00:00",
          "2022-04-22T00:00:00",
          "2022-04-25T00:00:00",
          "2022-04-26T00:00:00",
          "2022-04-27T00:00:00",
          "2022-04-28T00:00:00",
          "2022-04-29T00:00:00",
          "2022-05-02T00:00:00",
          "2022-05-03T00:00:00",
          "2022-05-04T00:00:00",
          "2022-05-05T00:00:00",
          "2022-05-06T00:00:00",
          "2022-05-09T00:00:00",
          "2022-05-10T00:00:00",
          "2022-05-11T00:00:00",
          "2022-05-12T00:00:00",
          "2022-05-13T00:00:00",
          "2022-05-16T00:00:00",
          "2022-05-17T00:00:00",
          "2022-05-18T00:00:00",
          "2022-05-19T00:00:00",
          "2022-05-20T00:00:00",
          "2022-05-23T00:00:00",
          "2022-05-24T00:00:00",
          "2022-05-25T00:00:00",
          "2022-05-26T00:00:00",
          "2022-05-27T00:00:00",
          "2022-05-30T00:00:00",
          "2022-05-31T00:00:00",
          "2022-06-01T00:00:00",
          "2022-06-02T00:00:00",
          "2022-06-03T00:00:00",
          "2022-06-06T00:00:00",
          "2022-06-07T00:00:00",
          "2022-06-08T00:00:00",
          "2022-06-09T00:00:00",
          "2022-06-10T00:00:00",
          "2022-06-13T00:00:00",
          "2022-06-14T00:00:00",
          "2022-06-15T00:00:00",
          "2022-06-17T00:00:00",
          "2022-06-20T00:00:00",
          "2022-06-21T00:00:00",
          "2022-06-22T00:00:00",
          "2022-06-23T00:00:00",
          "2022-06-24T00:00:00",
          "2022-06-27T00:00:00",
          "2022-06-28T00:00:00",
          "2022-06-29T00:00:00",
          "2022-06-30T00:00:00",
          "2022-07-01T00:00:00",
          "2022-07-04T00:00:00",
          "2022-07-05T00:00:00",
          "2022-07-06T00:00:00",
          "2022-07-07T00:00:00",
          "2022-07-08T00:00:00",
          "2022-07-11T00:00:00",
          "2022-07-12T00:00:00",
          "2022-07-13T00:00:00",
          "2022-07-14T00:00:00",
          "2022-07-15T00:00:00",
          "2022-07-18T00:00:00",
          "2022-07-19T00:00:00",
          "2022-07-20T00:00:00",
          "2022-07-21T00:00:00",
          "2022-07-22T00:00:00",
          "2022-07-25T00:00:00",
          "2022-07-26T00:00:00",
          "2022-07-27T00:00:00",
          "2022-07-28T00:00:00",
          "2022-07-29T00:00:00",
          "2022-08-01T00:00:00",
          "2022-08-02T00:00:00",
          "2022-08-03T00:00:00",
          "2022-08-04T00:00:00",
          "2022-08-05T00:00:00",
          "2022-08-08T00:00:00",
          "2022-08-09T00:00:00",
          "2022-08-10T00:00:00",
          "2022-08-11T00:00:00",
          "2022-08-12T00:00:00",
          "2022-08-15T00:00:00",
          "2022-08-16T00:00:00",
          "2022-08-17T00:00:00",
          "2022-08-18T00:00:00",
          "2022-08-19T00:00:00",
          "2022-08-22T00:00:00",
          "2022-08-23T00:00:00",
          "2022-08-24T00:00:00",
          "2022-08-25T00:00:00",
          "2022-08-26T00:00:00",
          "2022-08-29T00:00:00",
          "2022-08-30T00:00:00",
          "2022-08-31T00:00:00",
          "2022-09-01T00:00:00",
          "2022-09-02T00:00:00",
          "2022-09-05T00:00:00",
          "2022-09-06T00:00:00",
          "2022-09-08T00:00:00",
          "2022-09-09T00:00:00",
          "2022-09-12T00:00:00",
          "2022-09-13T00:00:00",
          "2022-09-14T00:00:00",
          "2022-09-15T00:00:00",
          "2022-09-16T00:00:00",
          "2022-09-19T00:00:00",
          "2022-09-20T00:00:00",
          "2022-09-21T00:00:00",
          "2022-09-22T00:00:00",
          "2022-09-23T00:00:00",
          "2022-09-26T00:00:00"
         ],
         "xaxis": "x",
         "y": [
          null,
          0.039086858321667695,
          0.041162246293271254,
          0.07229332976890235,
          0.07644417168750373,
          0.06745073584336247,
          0.059494960997325874,
          0.008301617861808275,
          0.018678689670614812,
          -0.027326150548196537,
          -0.02905569550402798,
          -0.007609799879476409,
          -0.024213101578487883,
          -0.04704256719231037,
          -0.06295398493359528,
          -0.06606709987869774,
          -0.05223107010901651,
          -0.03977861032860641,
          -0.07679001470327651,
          -0.047734319199248865,
          -0.008647526852975096,
          0.0010377269734986871,
          -0.0031131149451026907,
          -0.0024212969627701586,
          -0.02767205953936258,
          -0.0473884102080826,
          -0.038395040339335496,
          -0.0287097865128616,
          -0.016257326732451394,
          0.023521283596154907,
          0.012452459780409875,
          -0.05465236707178667,
          -0.25043236974510963,
          -0.16776203414279445,
          -0.15600139234471688,
          -0.19785539064492685,
          -0.2307160190763895,
          -0.23901763693819822,
          -0.23936354592936449,
          -0.26703560546872696,
          -0.23140783705872203,
          -0.22552751615968325,
          -0.2701487204138294,
          -0.2531995756990457,
          -0.22725699514012077,
          -0.19439636670865812,
          -0.1985472086272595,
          -0.18194397290364195,
          -0.19474227569982427,
          -0.1670702161604618,
          -0.19612591166448934,
          -0.169837422114398,
          -0.18644065783801544,
          -0.21134557739883575,
          -0.21065375941650322,
          -0.19750948165376048,
          -0.18851611178501315,
          -0.1757177430134368,
          -0.1757177430134368,
          -0.16637839817812916,
          -0.17364235504183312,
          -0.16845378614973294,
          -0.16914560413206559,
          -0.16983742211439823,
          -0.18021442794781062,
          -0.18194397290364206,
          -0.17364235504183334,
          -0.17087514908789714,
          -0.1577308713251544,
          -0.2013144145811957,
          -0.20615700850673568,
          -0.16015216828792433,
          -0.17606365200460328,
          -0.1798685849320384,
          -0.18056033693897688,
          -0.1774472219938743,
          -0.20096850559002943,
          -0.1719128100860019,
          -0.18298163390174682,
          -0.18298163390174682,
          -0.18955377278311825,
          -0.2082324624537335,
          -0.17571774301343712,
          -0.1871324758203483,
          -0.15669321032704964,
          -0.14562432053591068,
          -0.13005881178579204,
          -0.14285711458197436,
          -0.13559322369366456,
          -0.09028020145718585,
          -0.07782774167677575,
          -0.08855065650135452,
          -0.0954687043738921,
          -0.10307850425336829,
          -0.10238668627103575,
          -0.08716708651208349,
          -0.10619161919847087,
          -0.09754409234549588,
          -0.10377032223570093,
          -0.06641300886986468,
          -0.07056378481307202,
          -0.05603593706105836,
          -0.035973677401171966,
          -0.014181938760848278,
          -0.0214458296491582,
          -0.008647526852975984,
          -0.008647526852975984,
          -0.007955708870643341,
          -0.011760641798078453,
          -0.005534411907873293,
          0.004150841918600712,
          0.007955708870641676,
          -0.026980307532424752,
          -0.020408168651053438,
          0.001383635964664176,
          0.006572138881370204,
          0.013490120778513859,
          0.02559667156775758,
          0.006572138881370204,
          0.004842593925538763,
          0.009339344835306518,
          0.017986871688281614,
          0.00518850291670514,
          0.009339344835306518,
          -0.0020753879716047807,
          -0.04289172527370988,
          -0.029747513486361288,
          -0.04911795516391493,
          -0.04081633730210621,
          -0.03493601640306754,
          -0.04289172527370999,
          -0.06329989392476254,
          -0.07713592369444378,
          -0.09235558942879007,
          -0.08024903863954624,
          -0.06745073584336392,
          -0.06952612381496759,
          -0.07506053572284,
          -0.04980977314624757,
          -0.06087859696199249,
          -0.04150815528443885,
          -0.03804913134817001,
          -0.06918021482380121,
          -0.08647526852975118,
          -0.07125560279540477,
          -0.09097195346412479,
          -0.01937044167755475,
          -0.017986871688283723,
          -0.024904853585427378,
          -0.021791738640324798,
          -0.008301617861809829,
          0.006572138881370204,
          0.015219665734345078,
          -0.00933934483530885,
          -0.06502937290519994,
          -0.07333099076700866,
          -0.07851955965910895,
          -0.07990312964837998,
          -0.06537528189636621,
          -0.04600484021881246,
          -0.04081633730210621,
          -0.04911795516391493,
          -0.014527847752014877,
          -0.021099986633386303,
          -0.05949496099732732,
          -0.06468346391403357,
          -0.07990312964837998,
          -0.0892424744836876,
          -0.084745789549314,
          -0.13628504167599775,
          -0.11795226099654876,
          -0.12348667290442128,
          -0.09270149841995623,
          -0.10480804920920006,
          -0.08924247448368738,
          -0.09719818335432984,
          -0.13766861166526867,
          -0.14735386549174256,
          -0.1279834238141888,
          -0.10584571020730471,
          -0.07160151178657093,
          -0.06952612381496714,
          -0.061224505953158315,
          -0.06745073584336336,
          -0.05257697910018322,
          -0.058111391008055735,
          -0.03147699246679814,
          -0.004150775943208007,
          0.01764096269711568,
          -0.009339344835308183,
          -0.01072291482457921,
          0.0072639568637036245,
          0.014181938760847057,
          0.024904853585425712,
          0.026634398541257154,
          0.02386719258732084,
          0.01867868967061459,
          -0.03113108347563187,
          -0.014181938760848167,
          -0.05050152515318562,
          -0.05984086998849325,
          0.004496750909767089,
          -0.005188502916706694,
          -0.007609799879476631,
          0.0017294789804369604,
          -0.06087859696199183,
          -0.031476992466798026,
          -0.07125560279540433,
          -0.10065720729059824,
          -0.10584571020730438,
          -0.09650636537199675,
          -0.07851955965910828,
          -0.0857834505474181,
          -0.08509163256508556,
          -0.06641300886986434,
          -0.05672775504339034,
          -0.08059494763071173,
          -0.08197851761998276,
          -0.09719818335432906,
          -0.08820474751018781,
          -0.038395040339335496,
          -0.01867862369522133,
          0.024559010569653816,
          -0.015219665734346521,
          0.01937044167755353,
          0.017986871688282502,
          0.023867192587321284,
          -0.019024532686387485,
          -0.00518850291670625,
          -0.0006918179823326431,
          0.015565574725512565,
          0.015219665734346188,
          0.013144277762742407,
          0.025596671567758467,
          0.01937044167755353,
          0.0072639568637038465,
          0.013490120778514969,
          0.026980307532423975,
          0.0027672059539363136,
          -0.025942580558924955,
          -0.02455894459425978,
          -0.025942580558924955,
          -0.020062259659886172,
          -0.005534411907872405,
          -0.004496684934373607,
          -0.012798302796182326,
          -0.015911417741284906,
          0.006226229890204937,
          0.01003116281764016,
          -0.029055695504027645,
          -0.02974751348636029,
          -0.025250762576592645,
          -0.031131083475631427,
          -0.0024212969627700476,
          0.028017968530528625,
          0.04877204617274744,
          0.08785890449441514,
          0.08958838347485232,
          0.09443097740039219,
          0.08924247448368594,
          0.09719818335432828,
          0.09892772831015972,
          0.10515395820036488,
          0.1411277015769301,
          0.17156690109483463,
          0.17191287606139505,
          0.12556212685141754,
          0.11898992199465197,
          0.14147354459270223,
          0.12487030886908479,
          0.10930473414357222,
          0.12867524179652,
          0.11207200607290257,
          0.1010031162817635,
          0.10515395820036488,
          0.12210303693975444,
          0.16776196816739963,
          0.14147354459270245,
          0.12348667290441995,
          0.1390522476299325,
          0.13455549672016476,
          0.14147354459270245,
          0.17087508311250232,
          0.1670702821358554,
          0.18367351785947283,
          0.15496366537121742,
          0.1760636520046026,
          0.19923896063419733,
          0.18436533584180537,
          0.18401936087524495,
          0.09996538930826482,
          0.1227948549220872,
          0.12625394483375008,
          0.1656866461711901,
          0.12383264787098014,
          0.10238675224642857,
          0.07575235370517097,
          0.06641300886986334,
          0.03804913134816834,
          0.05880320899038716,
          0.09858181931899335,
          0.09373922539345347,
          0.10861291616123947,
          0.12141121895742191,
          0.11726044301421457,
          0.09304740741112094,
          0.11726044301421434,
          0.1411277015769299,
          0.1570391193182148,
          0.14181938760847435,
          0.13109653875928973,
          0.12037355795931703,
          0.11933589696121238,
          0.17744728796926768,
          0.18332754289291242,
          0.1743341730241652,
          0.17087508311250232,
          0.19578000267332252,
          0.08163267460420998,
          0.06260807594242856,
          0.09477688639155879,
          0.09996538930826504,
          0.05707366403455616,
          0.04150815528443763,
          0.03977861032860619,
          0.03977861032860619,
          0.04669665820114388,
          0.04738847618347641,
          0.037011404374669876,
          0.046350749209977504,
          0.10930473414357245,
          0.10722928019657463,
          0.14354899853970027,
          0.11241784908867491,
          0.12210303693975466,
          0.16118989526142236,
          0.17018339708095787,
          0.18540299683991024,
          0.1971636386379878,
          0.18159806391247502,
          0.16222755625952723,
          0.18194390692824736,
          0.20477350449285803,
          0.2521619147009404,
          0.09304740741112116,
          0.10861291616123991,
          0.11138018809057026,
          0.058457299999221224,
          0.03735731336583603,
          0.03977861032860597,
          0.03839504033933494,
          0.02940160449519369,
          0.04738847618347641,
          0.04808022819041491,
          0.060532687970825005,
          0.055344185054118755,
          0.040124519319772345,
          0.025596671567758467,
          0.012452459780409875,
          0.023867192587321284,
          0.00588032089903856,
          -0.05534418505411909,
          -0.044621204254146285,
          -0.06364580291592781,
          -0.06641300886986401,
          -0.08370806257581409,
          -0.09062604447295763,
          -0.032168810449130225,
          -0.020062259659886394,
          -0.02870978651286149,
          -0.03389828942956774,
          -0.013144211787348925,
          0.00795570887064212,
          -0.030439265493299006,
          -0.0428917252737091,
          -0.014873756743180366,
          -0.003804932927435334,
          -0.008647526852975207,
          -0.02352128359615524,
          -0.022829465613822597,
          -0.04911795516391404,
          -0.03286062843146276,
          -0.010722914824578766,
          0.009339344835307628,
          0.008993435844141473,
          0.003804932927435223,
          0.014527847752013878,
          0.061916323935490514,
          0.07263923876006917,
          0.08439988055814673,
          0.11691459999844311,
          0.18125222089670356,
          0.16499482818885824,
          0.17018339708095853,
          0.170875083112503,
          0.1833275428929133,
          0.2061570085067359,
          0.2670356714441213,
          0.2877896831109461,
          0.28363890716773876,
          0.2538913936813787,
          0.09685227436316302,
          0.09719818335432939,
          0.10722928019657552,
          0.13317186075550058,
          0.15600132636932318,
          0.09754409234549577,
          0.1210653759416509,
          0.1566931443516557,
          0.1636111922241934,
          0.1511587324437833,
          0.1636111922241934,
          0.19266688772822094,
          0.12175719392398343,
          0.1494292534633459,
          0.1708750831125032,
          0.15600132636932296,
          0.1532341863907809,
          0.11034239514167798,
          0.09996538930826548,
          0.09961954629249337,
          0.08889656549252067,
          0.060186778979659294,
          0.07644417168750461,
          0.0743687177405068,
          0.06468352988942705,
          0.08163267460421064,
          0.0754064447140057,
          0.07817365066794202,
          0.10480804920919962,
          0.035627834385399515,
          0.03113108347563176
         ],
         "yaxis": "y"
        }
       ],
       "layout": {
        "legend": {
         "tracegroupgap": 0
        },
        "template": {
         "data": {
          "bar": [
           {
            "error_x": {
             "color": "#2a3f5f"
            },
            "error_y": {
             "color": "#2a3f5f"
            },
            "marker": {
             "line": {
              "color": "#E5ECF6",
              "width": 0.5
             },
             "pattern": {
              "fillmode": "overlay",
              "size": 10,
              "solidity": 0.2
             }
            },
            "type": "bar"
           }
          ],
          "barpolar": [
           {
            "marker": {
             "line": {
              "color": "#E5ECF6",
              "width": 0.5
             },
             "pattern": {
              "fillmode": "overlay",
              "size": 10,
              "solidity": 0.2
             }
            },
            "type": "barpolar"
           }
          ],
          "carpet": [
           {
            "aaxis": {
             "endlinecolor": "#2a3f5f",
             "gridcolor": "white",
             "linecolor": "white",
             "minorgridcolor": "white",
             "startlinecolor": "#2a3f5f"
            },
            "baxis": {
             "endlinecolor": "#2a3f5f",
             "gridcolor": "white",
             "linecolor": "white",
             "minorgridcolor": "white",
             "startlinecolor": "#2a3f5f"
            },
            "type": "carpet"
           }
          ],
          "choropleth": [
           {
            "colorbar": {
             "outlinewidth": 0,
             "ticks": ""
            },
            "type": "choropleth"
           }
          ],
          "contour": [
           {
            "colorbar": {
             "outlinewidth": 0,
             "ticks": ""
            },
            "colorscale": [
             [
              0,
              "#0d0887"
             ],
             [
              0.1111111111111111,
              "#46039f"
             ],
             [
              0.2222222222222222,
              "#7201a8"
             ],
             [
              0.3333333333333333,
              "#9c179e"
             ],
             [
              0.4444444444444444,
              "#bd3786"
             ],
             [
              0.5555555555555556,
              "#d8576b"
             ],
             [
              0.6666666666666666,
              "#ed7953"
             ],
             [
              0.7777777777777778,
              "#fb9f3a"
             ],
             [
              0.8888888888888888,
              "#fdca26"
             ],
             [
              1,
              "#f0f921"
             ]
            ],
            "type": "contour"
           }
          ],
          "contourcarpet": [
           {
            "colorbar": {
             "outlinewidth": 0,
             "ticks": ""
            },
            "type": "contourcarpet"
           }
          ],
          "heatmap": [
           {
            "colorbar": {
             "outlinewidth": 0,
             "ticks": ""
            },
            "colorscale": [
             [
              0,
              "#0d0887"
             ],
             [
              0.1111111111111111,
              "#46039f"
             ],
             [
              0.2222222222222222,
              "#7201a8"
             ],
             [
              0.3333333333333333,
              "#9c179e"
             ],
             [
              0.4444444444444444,
              "#bd3786"
             ],
             [
              0.5555555555555556,
              "#d8576b"
             ],
             [
              0.6666666666666666,
              "#ed7953"
             ],
             [
              0.7777777777777778,
              "#fb9f3a"
             ],
             [
              0.8888888888888888,
              "#fdca26"
             ],
             [
              1,
              "#f0f921"
             ]
            ],
            "type": "heatmap"
           }
          ],
          "heatmapgl": [
           {
            "colorbar": {
             "outlinewidth": 0,
             "ticks": ""
            },
            "colorscale": [
             [
              0,
              "#0d0887"
             ],
             [
              0.1111111111111111,
              "#46039f"
             ],
             [
              0.2222222222222222,
              "#7201a8"
             ],
             [
              0.3333333333333333,
              "#9c179e"
             ],
             [
              0.4444444444444444,
              "#bd3786"
             ],
             [
              0.5555555555555556,
              "#d8576b"
             ],
             [
              0.6666666666666666,
              "#ed7953"
             ],
             [
              0.7777777777777778,
              "#fb9f3a"
             ],
             [
              0.8888888888888888,
              "#fdca26"
             ],
             [
              1,
              "#f0f921"
             ]
            ],
            "type": "heatmapgl"
           }
          ],
          "histogram": [
           {
            "marker": {
             "pattern": {
              "fillmode": "overlay",
              "size": 10,
              "solidity": 0.2
             }
            },
            "type": "histogram"
           }
          ],
          "histogram2d": [
           {
            "colorbar": {
             "outlinewidth": 0,
             "ticks": ""
            },
            "colorscale": [
             [
              0,
              "#0d0887"
             ],
             [
              0.1111111111111111,
              "#46039f"
             ],
             [
              0.2222222222222222,
              "#7201a8"
             ],
             [
              0.3333333333333333,
              "#9c179e"
             ],
             [
              0.4444444444444444,
              "#bd3786"
             ],
             [
              0.5555555555555556,
              "#d8576b"
             ],
             [
              0.6666666666666666,
              "#ed7953"
             ],
             [
              0.7777777777777778,
              "#fb9f3a"
             ],
             [
              0.8888888888888888,
              "#fdca26"
             ],
             [
              1,
              "#f0f921"
             ]
            ],
            "type": "histogram2d"
           }
          ],
          "histogram2dcontour": [
           {
            "colorbar": {
             "outlinewidth": 0,
             "ticks": ""
            },
            "colorscale": [
             [
              0,
              "#0d0887"
             ],
             [
              0.1111111111111111,
              "#46039f"
             ],
             [
              0.2222222222222222,
              "#7201a8"
             ],
             [
              0.3333333333333333,
              "#9c179e"
             ],
             [
              0.4444444444444444,
              "#bd3786"
             ],
             [
              0.5555555555555556,
              "#d8576b"
             ],
             [
              0.6666666666666666,
              "#ed7953"
             ],
             [
              0.7777777777777778,
              "#fb9f3a"
             ],
             [
              0.8888888888888888,
              "#fdca26"
             ],
             [
              1,
              "#f0f921"
             ]
            ],
            "type": "histogram2dcontour"
           }
          ],
          "mesh3d": [
           {
            "colorbar": {
             "outlinewidth": 0,
             "ticks": ""
            },
            "type": "mesh3d"
           }
          ],
          "parcoords": [
           {
            "line": {
             "colorbar": {
              "outlinewidth": 0,
              "ticks": ""
             }
            },
            "type": "parcoords"
           }
          ],
          "pie": [
           {
            "automargin": true,
            "type": "pie"
           }
          ],
          "scatter": [
           {
            "marker": {
             "colorbar": {
              "outlinewidth": 0,
              "ticks": ""
             }
            },
            "type": "scatter"
           }
          ],
          "scatter3d": [
           {
            "line": {
             "colorbar": {
              "outlinewidth": 0,
              "ticks": ""
             }
            },
            "marker": {
             "colorbar": {
              "outlinewidth": 0,
              "ticks": ""
             }
            },
            "type": "scatter3d"
           }
          ],
          "scattercarpet": [
           {
            "marker": {
             "colorbar": {
              "outlinewidth": 0,
              "ticks": ""
             }
            },
            "type": "scattercarpet"
           }
          ],
          "scattergeo": [
           {
            "marker": {
             "colorbar": {
              "outlinewidth": 0,
              "ticks": ""
             }
            },
            "type": "scattergeo"
           }
          ],
          "scattergl": [
           {
            "marker": {
             "colorbar": {
              "outlinewidth": 0,
              "ticks": ""
             }
            },
            "type": "scattergl"
           }
          ],
          "scattermapbox": [
           {
            "marker": {
             "colorbar": {
              "outlinewidth": 0,
              "ticks": ""
             }
            },
            "type": "scattermapbox"
           }
          ],
          "scatterpolar": [
           {
            "marker": {
             "colorbar": {
              "outlinewidth": 0,
              "ticks": ""
             }
            },
            "type": "scatterpolar"
           }
          ],
          "scatterpolargl": [
           {
            "marker": {
             "colorbar": {
              "outlinewidth": 0,
              "ticks": ""
             }
            },
            "type": "scatterpolargl"
           }
          ],
          "scatterternary": [
           {
            "marker": {
             "colorbar": {
              "outlinewidth": 0,
              "ticks": ""
             }
            },
            "type": "scatterternary"
           }
          ],
          "surface": [
           {
            "colorbar": {
             "outlinewidth": 0,
             "ticks": ""
            },
            "colorscale": [
             [
              0,
              "#0d0887"
             ],
             [
              0.1111111111111111,
              "#46039f"
             ],
             [
              0.2222222222222222,
              "#7201a8"
             ],
             [
              0.3333333333333333,
              "#9c179e"
             ],
             [
              0.4444444444444444,
              "#bd3786"
             ],
             [
              0.5555555555555556,
              "#d8576b"
             ],
             [
              0.6666666666666666,
              "#ed7953"
             ],
             [
              0.7777777777777778,
              "#fb9f3a"
             ],
             [
              0.8888888888888888,
              "#fdca26"
             ],
             [
              1,
              "#f0f921"
             ]
            ],
            "type": "surface"
           }
          ],
          "table": [
           {
            "cells": {
             "fill": {
              "color": "#EBF0F8"
             },
             "line": {
              "color": "white"
             }
            },
            "header": {
             "fill": {
              "color": "#C8D4E3"
             },
             "line": {
              "color": "white"
             }
            },
            "type": "table"
           }
          ]
         },
         "layout": {
          "annotationdefaults": {
           "arrowcolor": "#2a3f5f",
           "arrowhead": 0,
           "arrowwidth": 1
          },
          "autotypenumbers": "strict",
          "coloraxis": {
           "colorbar": {
            "outlinewidth": 0,
            "ticks": ""
           }
          },
          "colorscale": {
           "diverging": [
            [
             0,
             "#8e0152"
            ],
            [
             0.1,
             "#c51b7d"
            ],
            [
             0.2,
             "#de77ae"
            ],
            [
             0.3,
             "#f1b6da"
            ],
            [
             0.4,
             "#fde0ef"
            ],
            [
             0.5,
             "#f7f7f7"
            ],
            [
             0.6,
             "#e6f5d0"
            ],
            [
             0.7,
             "#b8e186"
            ],
            [
             0.8,
             "#7fbc41"
            ],
            [
             0.9,
             "#4d9221"
            ],
            [
             1,
             "#276419"
            ]
           ],
           "sequential": [
            [
             0,
             "#0d0887"
            ],
            [
             0.1111111111111111,
             "#46039f"
            ],
            [
             0.2222222222222222,
             "#7201a8"
            ],
            [
             0.3333333333333333,
             "#9c179e"
            ],
            [
             0.4444444444444444,
             "#bd3786"
            ],
            [
             0.5555555555555556,
             "#d8576b"
            ],
            [
             0.6666666666666666,
             "#ed7953"
            ],
            [
             0.7777777777777778,
             "#fb9f3a"
            ],
            [
             0.8888888888888888,
             "#fdca26"
            ],
            [
             1,
             "#f0f921"
            ]
           ],
           "sequentialminus": [
            [
             0,
             "#0d0887"
            ],
            [
             0.1111111111111111,
             "#46039f"
            ],
            [
             0.2222222222222222,
             "#7201a8"
            ],
            [
             0.3333333333333333,
             "#9c179e"
            ],
            [
             0.4444444444444444,
             "#bd3786"
            ],
            [
             0.5555555555555556,
             "#d8576b"
            ],
            [
             0.6666666666666666,
             "#ed7953"
            ],
            [
             0.7777777777777778,
             "#fb9f3a"
            ],
            [
             0.8888888888888888,
             "#fdca26"
            ],
            [
             1,
             "#f0f921"
            ]
           ]
          },
          "colorway": [
           "#636efa",
           "#EF553B",
           "#00cc96",
           "#ab63fa",
           "#FFA15A",
           "#19d3f3",
           "#FF6692",
           "#B6E880",
           "#FF97FF",
           "#FECB52"
          ],
          "font": {
           "color": "#2a3f5f"
          },
          "geo": {
           "bgcolor": "white",
           "lakecolor": "white",
           "landcolor": "#E5ECF6",
           "showlakes": true,
           "showland": true,
           "subunitcolor": "white"
          },
          "hoverlabel": {
           "align": "left"
          },
          "hovermode": "closest",
          "mapbox": {
           "style": "light"
          },
          "paper_bgcolor": "white",
          "plot_bgcolor": "#E5ECF6",
          "polar": {
           "angularaxis": {
            "gridcolor": "white",
            "linecolor": "white",
            "ticks": ""
           },
           "bgcolor": "#E5ECF6",
           "radialaxis": {
            "gridcolor": "white",
            "linecolor": "white",
            "ticks": ""
           }
          },
          "scene": {
           "xaxis": {
            "backgroundcolor": "#E5ECF6",
            "gridcolor": "white",
            "gridwidth": 2,
            "linecolor": "white",
            "showbackground": true,
            "ticks": "",
            "zerolinecolor": "white"
           },
           "yaxis": {
            "backgroundcolor": "#E5ECF6",
            "gridcolor": "white",
            "gridwidth": 2,
            "linecolor": "white",
            "showbackground": true,
            "ticks": "",
            "zerolinecolor": "white"
           },
           "zaxis": {
            "backgroundcolor": "#E5ECF6",
            "gridcolor": "white",
            "gridwidth": 2,
            "linecolor": "white",
            "showbackground": true,
            "ticks": "",
            "zerolinecolor": "white"
           }
          },
          "shapedefaults": {
           "line": {
            "color": "#2a3f5f"
           }
          },
          "ternary": {
           "aaxis": {
            "gridcolor": "white",
            "linecolor": "white",
            "ticks": ""
           },
           "baxis": {
            "gridcolor": "white",
            "linecolor": "white",
            "ticks": ""
           },
           "bgcolor": "#E5ECF6",
           "caxis": {
            "gridcolor": "white",
            "linecolor": "white",
            "ticks": ""
           }
          },
          "title": {
           "x": 0.05
          },
          "xaxis": {
           "automargin": true,
           "gridcolor": "white",
           "linecolor": "white",
           "ticks": "",
           "title": {
            "standoff": 15
           },
           "zerolinecolor": "white",
           "zerolinewidth": 2
          },
          "yaxis": {
           "automargin": true,
           "gridcolor": "white",
           "linecolor": "white",
           "ticks": "",
           "title": {
            "standoff": 15
           },
           "zerolinecolor": "white",
           "zerolinewidth": 2
          }
         }
        },
        "title": {
         "text": "Retorno Petrobras"
        },
        "xaxis": {
         "anchor": "y",
         "domain": [
          0,
          1
         ],
         "dtick": "M1",
         "tickformat": "%b\n%Y",
         "title": {
          "text": "Date"
         }
        },
        "yaxis": {
         "anchor": "x",
         "domain": [
          0,
          1
         ],
         "title": {
          "text": "simp_ret_cum"
         }
        }
       }
      }
     },
     "metadata": {},
     "output_type": "display_data"
    }
   ],
   "source": [
    "import plotly.express as px\n",
    "\n",
    "fig = px.line(df_retorno, x = 'Date', y = 'simp_ret_cum', hover_data={'Date': '|%B %d, %Y'}, title='Retorno Petrobras')\n",
    "fig.update_xaxes(dtick=\"M1\", tickformat=\"%b\\n%Y\")\n",
    "fig.show()"
   ]
  },
  {
   "cell_type": "code",
   "execution_count": 391,
   "metadata": {},
   "outputs": [
    {
     "name": "stdout",
     "output_type": "stream",
     "text": [
      "0.009786817447729348 -0.011677625094940044\n"
     ]
    }
   ],
   "source": [
    "# cenário otimista\n",
    "\n",
    "\n",
    "media = np.nanmean(df_retorno['simp_ret_cum'])\n",
    "desvio = np.nanstd(df_retorno['simp_ret_cum'])\n",
    "\n",
    "otimista = media + 2 * desvio/math.sqrt(len(df_retorno) - 1)\n",
    "pessimista = media - 2 * desvio/math.sqrt(len(df_retorno) - 1)\n",
    "\n",
    "print(otimista, pessimista)\n"
   ]
  }
 ],
 "metadata": {
  "kernelspec": {
   "display_name": "Python 3.9.12 ('base')",
   "language": "python",
   "name": "python3"
  },
  "language_info": {
   "codemirror_mode": {
    "name": "ipython",
    "version": 3
   },
   "file_extension": ".py",
   "mimetype": "text/x-python",
   "name": "python",
   "nbconvert_exporter": "python",
   "pygments_lexer": "ipython3",
   "version": "3.9.12"
  },
  "orig_nbformat": 4,
  "vscode": {
   "interpreter": {
    "hash": "ad2bdc8ecc057115af97d19610ffacc2b4e99fae6737bb82f5d7fb13d2f2c186"
   }
  }
 },
 "nbformat": 4,
 "nbformat_minor": 2
}
