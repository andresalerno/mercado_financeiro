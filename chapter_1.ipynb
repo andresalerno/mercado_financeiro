{
 "cells": [
  {
   "cell_type": "markdown",
   "metadata": {},
   "source": [
    "# Python e Mercado Financeiro"
   ]
  },
  {
   "cell_type": "markdown",
   "metadata": {},
   "source": [
    "## 1) Chapter 1"
   ]
  },
  {
   "cell_type": "code",
   "execution_count": 148,
   "metadata": {},
   "outputs": [
    {
     "data": {
      "text/plain": [
       "2"
      ]
     },
     "execution_count": 148,
     "metadata": {},
     "output_type": "execute_result"
    }
   ],
   "source": [
    "# operações simples\n",
    "\n",
    "1 + 1"
   ]
  },
  {
   "cell_type": "code",
   "execution_count": 149,
   "metadata": {},
   "outputs": [
    {
     "data": {
      "text/plain": [
       "1.5"
      ]
     },
     "execution_count": 149,
     "metadata": {},
     "output_type": "execute_result"
    }
   ],
   "source": [
    "# divisão\n",
    "\n",
    "3 / 2"
   ]
  },
  {
   "cell_type": "code",
   "execution_count": 150,
   "metadata": {},
   "outputs": [
    {
     "data": {
      "text/plain": [
       "-6"
      ]
     },
     "execution_count": 150,
     "metadata": {},
     "output_type": "execute_result"
    }
   ],
   "source": [
    "# números negativos\n",
    "4 - 10"
   ]
  },
  {
   "cell_type": "code",
   "execution_count": 151,
   "metadata": {},
   "outputs": [
    {
     "data": {
      "text/plain": [
       "8"
      ]
     },
     "execution_count": 151,
     "metadata": {},
     "output_type": "execute_result"
    }
   ],
   "source": [
    "# exponenciação\n",
    "2 ** 3"
   ]
  },
  {
   "cell_type": "code",
   "execution_count": 152,
   "metadata": {},
   "outputs": [
    {
     "data": {
      "text/plain": [
       "1"
      ]
     },
     "execution_count": 152,
     "metadata": {},
     "output_type": "execute_result"
    }
   ],
   "source": [
    "# resto\n",
    "10 % 3"
   ]
  },
  {
   "cell_type": "code",
   "execution_count": 153,
   "metadata": {},
   "outputs": [],
   "source": [
    "# atribuição de variáveis\n",
    "\n",
    "x = 5\n",
    "y = 10"
   ]
  },
  {
   "cell_type": "code",
   "execution_count": 154,
   "metadata": {},
   "outputs": [
    {
     "name": "stdout",
     "output_type": "stream",
     "text": [
      "5\n"
     ]
    }
   ],
   "source": [
    "print(x)"
   ]
  },
  {
   "cell_type": "code",
   "execution_count": 155,
   "metadata": {},
   "outputs": [
    {
     "name": "stdout",
     "output_type": "stream",
     "text": [
      "5 10\n"
     ]
    }
   ],
   "source": [
    "print (x, y)"
   ]
  },
  {
   "cell_type": "code",
   "execution_count": 156,
   "metadata": {},
   "outputs": [
    {
     "name": "stdout",
     "output_type": "stream",
     "text": [
      "x =  5 y =  10\n"
     ]
    }
   ],
   "source": [
    "print(\"x = \", x, \"y = \", y)"
   ]
  },
  {
   "cell_type": "code",
   "execution_count": 157,
   "metadata": {},
   "outputs": [
    {
     "name": "stdout",
     "output_type": "stream",
     "text": [
      "15\n"
     ]
    }
   ],
   "source": [
    "print(x + y)"
   ]
  },
  {
   "cell_type": "code",
   "execution_count": 158,
   "metadata": {},
   "outputs": [
    {
     "name": "stdout",
     "output_type": "stream",
     "text": [
      "-5\n"
     ]
    }
   ],
   "source": [
    "print(x - y)"
   ]
  },
  {
   "cell_type": "code",
   "execution_count": 159,
   "metadata": {},
   "outputs": [
    {
     "name": "stdout",
     "output_type": "stream",
     "text": [
      "0.5\n"
     ]
    }
   ],
   "source": [
    "print(x / y)"
   ]
  },
  {
   "cell_type": "code",
   "execution_count": 160,
   "metadata": {},
   "outputs": [
    {
     "data": {
      "text/plain": [
       "7.38905609893065"
      ]
     },
     "execution_count": 160,
     "metadata": {},
     "output_type": "execute_result"
    }
   ],
   "source": [
    "import math as mt\n",
    "\n",
    "# retorna e elevado a x\n",
    "mt.exp(2)\n",
    "\n"
   ]
  },
  {
   "cell_type": "code",
   "execution_count": 161,
   "metadata": {},
   "outputs": [
    {
     "data": {
      "text/plain": [
       "1.0"
      ]
     },
     "execution_count": 161,
     "metadata": {},
     "output_type": "execute_result"
    }
   ],
   "source": [
    "# retorna o logaritmo de x na base 2\n",
    "mt.log2(2)"
   ]
  },
  {
   "cell_type": "code",
   "execution_count": 162,
   "metadata": {},
   "outputs": [
    {
     "data": {
      "text/plain": [
       "0.3010299956639812"
      ]
     },
     "execution_count": 162,
     "metadata": {},
     "output_type": "execute_result"
    }
   ],
   "source": [
    "# retorna o logaritmo de x na base 10\n",
    "mt.log10(2)"
   ]
  },
  {
   "cell_type": "code",
   "execution_count": 163,
   "metadata": {},
   "outputs": [
    {
     "data": {
      "text/plain": [
       "0.6931471805599453"
      ]
     },
     "execution_count": 163,
     "metadata": {},
     "output_type": "execute_result"
    }
   ],
   "source": [
    "# retorna o logaritmo natural na base 10\n",
    "mt.log(2)"
   ]
  },
  {
   "cell_type": "code",
   "execution_count": 164,
   "metadata": {},
   "outputs": [
    {
     "data": {
      "text/plain": [
       "0.30102999566398114"
      ]
     },
     "execution_count": 164,
     "metadata": {},
     "output_type": "execute_result"
    }
   ],
   "source": [
    "# retorna o logaritmo de x na base b, apenas quando b é diferente de 2 e 10\n",
    "mt.log(2,10)"
   ]
  },
  {
   "cell_type": "code",
   "execution_count": 165,
   "metadata": {},
   "outputs": [
    {
     "data": {
      "text/plain": [
       "8.0"
      ]
     },
     "execution_count": 165,
     "metadata": {},
     "output_type": "execute_result"
    }
   ],
   "source": [
    "# retorna x elevado a y\n",
    "mt.pow(2,3)"
   ]
  },
  {
   "cell_type": "code",
   "execution_count": 166,
   "metadata": {},
   "outputs": [
    {
     "data": {
      "text/plain": [
       "4.0"
      ]
     },
     "execution_count": 166,
     "metadata": {},
     "output_type": "execute_result"
    }
   ],
   "source": [
    "# retorna a raiz quadrada de x\n",
    "mt.sqrt(16)"
   ]
  },
  {
   "cell_type": "code",
   "execution_count": 167,
   "metadata": {},
   "outputs": [
    {
     "data": {
      "text/plain": [
       "-0.9899924966004454"
      ]
     },
     "execution_count": 167,
     "metadata": {},
     "output_type": "execute_result"
    }
   ],
   "source": [
    "# funções trigonométricas\n",
    "# retorna o cosseno de x\n",
    "mt.cos(3)"
   ]
  },
  {
   "cell_type": "code",
   "execution_count": 168,
   "metadata": {},
   "outputs": [
    {
     "data": {
      "text/plain": [
       "0.1411200080598672"
      ]
     },
     "execution_count": 168,
     "metadata": {},
     "output_type": "execute_result"
    }
   ],
   "source": [
    "# retorna o seno de x\n",
    "mt.sin(3)"
   ]
  },
  {
   "cell_type": "code",
   "execution_count": 169,
   "metadata": {},
   "outputs": [
    {
     "data": {
      "text/plain": [
       "-0.1425465430742778"
      ]
     },
     "execution_count": 169,
     "metadata": {},
     "output_type": "execute_result"
    }
   ],
   "source": [
    "# retorna a tangente de x\n",
    "mt.tan(3)"
   ]
  },
  {
   "cell_type": "code",
   "execution_count": 170,
   "metadata": {},
   "outputs": [
    {
     "data": {
      "text/plain": [
       "89.95437383553924"
      ]
     },
     "execution_count": 170,
     "metadata": {},
     "output_type": "execute_result"
    }
   ],
   "source": [
    "# converte o ângulo x de radianos para graus\n",
    "\n",
    "mt.degrees(1.57)"
   ]
  },
  {
   "cell_type": "code",
   "execution_count": 171,
   "metadata": {},
   "outputs": [
    {
     "data": {
      "text/plain": [
       "1.5707963267948966"
      ]
     },
     "execution_count": 171,
     "metadata": {},
     "output_type": "execute_result"
    }
   ],
   "source": [
    "# converte o ângulo de x graus para radianos\n",
    "\n",
    "mt.radians(90)"
   ]
  },
  {
   "cell_type": "code",
   "execution_count": 172,
   "metadata": {},
   "outputs": [
    {
     "data": {
      "text/plain": [
       "0.9884320889261531"
      ]
     },
     "execution_count": 172,
     "metadata": {},
     "output_type": "execute_result"
    }
   ],
   "source": [
    "# retorna o arco cosseno de x\n",
    "\n",
    "mt.acos(0.55)"
   ]
  },
  {
   "cell_type": "code",
   "execution_count": 173,
   "metadata": {},
   "outputs": [
    {
     "data": {
      "text/plain": [
       "0.5823642378687435"
      ]
     },
     "execution_count": 173,
     "metadata": {},
     "output_type": "execute_result"
    }
   ],
   "source": [
    "# retorna o arco seno de x\n",
    "\n",
    "mt.asin(0.55)"
   ]
  },
  {
   "cell_type": "code",
   "execution_count": 174,
   "metadata": {},
   "outputs": [
    {
     "data": {
      "text/plain": [
       "0.5028432109278609"
      ]
     },
     "execution_count": 174,
     "metadata": {},
     "output_type": "execute_result"
    }
   ],
   "source": [
    "# retorna o arco tangente de x\n",
    "\n",
    "mt.atan(0.55)"
   ]
  },
  {
   "cell_type": "code",
   "execution_count": 175,
   "metadata": {},
   "outputs": [
    {
     "name": "stdout",
     "output_type": "stream",
     "text": [
      "[1, 3, 5, 7, 9, 11, 13, 15, 17, 19]\n"
     ]
    }
   ],
   "source": [
    "# listas\n",
    "\n",
    "dados = list(range(1,20,2))\n",
    "\n",
    "print(dados)\n"
   ]
  },
  {
   "cell_type": "code",
   "execution_count": 176,
   "metadata": {},
   "outputs": [
    {
     "data": {
      "text/plain": [
       "3"
      ]
     },
     "execution_count": 176,
     "metadata": {},
     "output_type": "execute_result"
    }
   ],
   "source": [
    "# lista é uma sequência ordenada em que os elementos são sempre associados a um índice\n",
    "\n",
    "dados[1]"
   ]
  },
  {
   "cell_type": "code",
   "execution_count": 177,
   "metadata": {},
   "outputs": [
    {
     "data": {
      "text/plain": [
       "19"
      ]
     },
     "execution_count": 177,
     "metadata": {},
     "output_type": "execute_result"
    }
   ],
   "source": [
    "dados[-1]"
   ]
  },
  {
   "cell_type": "code",
   "execution_count": 178,
   "metadata": {},
   "outputs": [
    {
     "name": "stdout",
     "output_type": "stream",
     "text": [
      "10\n"
     ]
    }
   ],
   "source": [
    "print(len(dados))"
   ]
  },
  {
   "cell_type": "code",
   "execution_count": 179,
   "metadata": {},
   "outputs": [
    {
     "name": "stdout",
     "output_type": "stream",
     "text": [
      "[5, 7]\n"
     ]
    }
   ],
   "source": [
    "print(dados[2:4])"
   ]
  },
  {
   "cell_type": "code",
   "execution_count": 180,
   "metadata": {},
   "outputs": [
    {
     "data": {
      "text/plain": [
       "True"
      ]
     },
     "execution_count": 180,
     "metadata": {},
     "output_type": "execute_result"
    }
   ],
   "source": [
    "3 in dados"
   ]
  },
  {
   "cell_type": "code",
   "execution_count": 181,
   "metadata": {},
   "outputs": [
    {
     "data": {
      "text/plain": [
       "False"
      ]
     },
     "execution_count": 181,
     "metadata": {},
     "output_type": "execute_result"
    }
   ],
   "source": [
    "18 in dados"
   ]
  },
  {
   "cell_type": "code",
   "execution_count": 182,
   "metadata": {},
   "outputs": [],
   "source": [
    "# substituição na lista\n",
    "\n",
    "dados[-1] = 20"
   ]
  },
  {
   "cell_type": "code",
   "execution_count": 183,
   "metadata": {},
   "outputs": [
    {
     "name": "stdout",
     "output_type": "stream",
     "text": [
      "[1, 3, 5, 7, 9, 11, 13, 15, 17, 20]\n"
     ]
    }
   ],
   "source": [
    "print(dados)"
   ]
  },
  {
   "cell_type": "code",
   "execution_count": 184,
   "metadata": {},
   "outputs": [],
   "source": [
    "dados.append(22)"
   ]
  },
  {
   "cell_type": "code",
   "execution_count": 185,
   "metadata": {},
   "outputs": [
    {
     "name": "stdout",
     "output_type": "stream",
     "text": [
      "[1, 3, 5, 7, 9, 11, 13, 15, 17, 20, 22]\n"
     ]
    }
   ],
   "source": [
    "print(dados)"
   ]
  },
  {
   "cell_type": "code",
   "execution_count": 186,
   "metadata": {},
   "outputs": [
    {
     "data": {
      "text/plain": [
       "1"
      ]
     },
     "execution_count": 186,
     "metadata": {},
     "output_type": "execute_result"
    }
   ],
   "source": [
    "# contando repetições\n",
    "\n",
    "dados.count(22)"
   ]
  },
  {
   "cell_type": "code",
   "execution_count": 187,
   "metadata": {},
   "outputs": [],
   "source": [
    "# adicionando lista em uma lista\n",
    "\n",
    "dados.extend([list(range(1,4))])"
   ]
  },
  {
   "cell_type": "code",
   "execution_count": 188,
   "metadata": {},
   "outputs": [
    {
     "name": "stdout",
     "output_type": "stream",
     "text": [
      "[1, 3, 5, 7, 9, 11, 13, 15, 17, 20, 22, [1, 2, 3]]\n"
     ]
    }
   ],
   "source": [
    "print(dados)"
   ]
  },
  {
   "cell_type": "code",
   "execution_count": 189,
   "metadata": {},
   "outputs": [],
   "source": [
    "# organizando\n",
    "\n",
    "import string\n",
    "\n",
    "letras = list(string.ascii_uppercase)"
   ]
  },
  {
   "cell_type": "code",
   "execution_count": 190,
   "metadata": {},
   "outputs": [
    {
     "name": "stdout",
     "output_type": "stream",
     "text": [
      "['A', 'B', 'C', 'D', 'E', 'F', 'G', 'H', 'I', 'J', 'K', 'L', 'M', 'N', 'O', 'P', 'Q', 'R', 'S', 'T', 'U', 'V', 'W', 'X', 'Y', 'Z']\n"
     ]
    }
   ],
   "source": [
    "print(letras)"
   ]
  },
  {
   "cell_type": "code",
   "execution_count": 191,
   "metadata": {},
   "outputs": [
    {
     "data": {
      "text/plain": [
       "list"
      ]
     },
     "execution_count": 191,
     "metadata": {},
     "output_type": "execute_result"
    }
   ],
   "source": [
    "type(letras)"
   ]
  },
  {
   "cell_type": "code",
   "execution_count": 192,
   "metadata": {},
   "outputs": [],
   "source": [
    "letras_slicing = list(letras[12:24]) + list(letras[1:8])"
   ]
  },
  {
   "cell_type": "code",
   "execution_count": 193,
   "metadata": {},
   "outputs": [
    {
     "name": "stdout",
     "output_type": "stream",
     "text": [
      "['M', 'N', 'O', 'P', 'Q', 'R', 'S', 'T', 'U', 'V', 'W', 'X', 'B', 'C', 'D', 'E', 'F', 'G', 'H']\n"
     ]
    }
   ],
   "source": [
    "print(letras_slicing)\n"
   ]
  },
  {
   "cell_type": "code",
   "execution_count": 194,
   "metadata": {},
   "outputs": [
    {
     "data": {
      "text/plain": [
       "list"
      ]
     },
     "execution_count": 194,
     "metadata": {},
     "output_type": "execute_result"
    }
   ],
   "source": [
    "type(letras_slicing)"
   ]
  },
  {
   "cell_type": "code",
   "execution_count": 195,
   "metadata": {},
   "outputs": [],
   "source": [
    "letras_slicing.sort()"
   ]
  },
  {
   "cell_type": "code",
   "execution_count": 196,
   "metadata": {},
   "outputs": [
    {
     "name": "stdout",
     "output_type": "stream",
     "text": [
      "['B', 'C', 'D', 'E', 'F', 'G', 'H', 'M', 'N', 'O', 'P', 'Q', 'R', 'S', 'T', 'U', 'V', 'W', 'X']\n"
     ]
    }
   ],
   "source": [
    "print(letras_slicing)"
   ]
  },
  {
   "cell_type": "code",
   "execution_count": 197,
   "metadata": {},
   "outputs": [],
   "source": [
    "letras_slicing.reverse()"
   ]
  },
  {
   "cell_type": "code",
   "execution_count": 198,
   "metadata": {},
   "outputs": [
    {
     "name": "stdout",
     "output_type": "stream",
     "text": [
      "['X', 'W', 'V', 'U', 'T', 'S', 'R', 'Q', 'P', 'O', 'N', 'M', 'H', 'G', 'F', 'E', 'D', 'C', 'B']\n"
     ]
    }
   ],
   "source": [
    "print(letras_slicing)"
   ]
  },
  {
   "cell_type": "code",
   "execution_count": 199,
   "metadata": {},
   "outputs": [],
   "source": [
    "letras_slicing.remove(\"X\")"
   ]
  },
  {
   "cell_type": "code",
   "execution_count": 200,
   "metadata": {},
   "outputs": [
    {
     "name": "stdout",
     "output_type": "stream",
     "text": [
      "['W', 'V', 'U', 'T', 'S', 'R', 'Q', 'P', 'O', 'N', 'M', 'H', 'G', 'F', 'E', 'D', 'C', 'B']\n"
     ]
    }
   ],
   "source": [
    "print(letras_slicing)"
   ]
  },
  {
   "cell_type": "code",
   "execution_count": 201,
   "metadata": {},
   "outputs": [
    {
     "data": {
      "text/plain": [
       "0"
      ]
     },
     "execution_count": 201,
     "metadata": {},
     "output_type": "execute_result"
    }
   ],
   "source": [
    "letras_slicing.index(\"W\")"
   ]
  },
  {
   "cell_type": "code",
   "execution_count": 202,
   "metadata": {},
   "outputs": [],
   "source": [
    "letras_slicing.insert(0, \"X\")"
   ]
  },
  {
   "cell_type": "code",
   "execution_count": 203,
   "metadata": {},
   "outputs": [
    {
     "name": "stdout",
     "output_type": "stream",
     "text": [
      "['X', 'W', 'V', 'U', 'T', 'S', 'R', 'Q', 'P', 'O', 'N', 'M', 'H', 'G', 'F', 'E', 'D', 'C', 'B']\n"
     ]
    }
   ],
   "source": [
    "print(letras_slicing)"
   ]
  },
  {
   "cell_type": "code",
   "execution_count": 204,
   "metadata": {},
   "outputs": [],
   "source": [
    "# estatística básica no console\n",
    "\n",
    "import statistics as st"
   ]
  },
  {
   "cell_type": "code",
   "execution_count": 205,
   "metadata": {},
   "outputs": [
    {
     "name": "stdout",
     "output_type": "stream",
     "text": [
      "[1, 3, 5, 7, 9, 11, 13, 15, 17, 20, 22, [1, 2, 3]]\n"
     ]
    }
   ],
   "source": [
    "print(dados)"
   ]
  },
  {
   "cell_type": "code",
   "execution_count": 206,
   "metadata": {},
   "outputs": [],
   "source": [
    "dados = dados[:-1]"
   ]
  },
  {
   "cell_type": "code",
   "execution_count": 207,
   "metadata": {},
   "outputs": [
    {
     "data": {
      "text/plain": [
       "11.181818181818182"
      ]
     },
     "execution_count": 207,
     "metadata": {},
     "output_type": "execute_result"
    }
   ],
   "source": [
    "st.mean(dados)"
   ]
  },
  {
   "cell_type": "code",
   "execution_count": 208,
   "metadata": {},
   "outputs": [
    {
     "data": {
      "text/plain": [
       "11"
      ]
     },
     "execution_count": 208,
     "metadata": {},
     "output_type": "execute_result"
    }
   ],
   "source": [
    "from statistics import median\n",
    "\n",
    "\n",
    "st.median(dados)"
   ]
  },
  {
   "cell_type": "code",
   "execution_count": 209,
   "metadata": {},
   "outputs": [
    {
     "data": {
      "text/plain": [
       "1"
      ]
     },
     "execution_count": 209,
     "metadata": {},
     "output_type": "execute_result"
    }
   ],
   "source": [
    "st.mode(dados)"
   ]
  },
  {
   "cell_type": "code",
   "execution_count": 210,
   "metadata": {},
   "outputs": [
    {
     "data": {
      "text/plain": [
       "6.911124102751764"
      ]
     },
     "execution_count": 210,
     "metadata": {},
     "output_type": "execute_result"
    }
   ],
   "source": [
    "#desvio padrão amostral\n",
    "st.stdev(dados)"
   ]
  },
  {
   "cell_type": "code",
   "execution_count": 211,
   "metadata": {},
   "outputs": [
    {
     "data": {
      "text/plain": [
       "6.589498281607317"
      ]
     },
     "execution_count": 211,
     "metadata": {},
     "output_type": "execute_result"
    }
   ],
   "source": [
    "# desvio padrão populacional\n",
    "st.pstdev(dados)"
   ]
  },
  {
   "cell_type": "code",
   "execution_count": 212,
   "metadata": {},
   "outputs": [],
   "source": [
    "# bibliotecas científicas no console\n",
    "\n",
    "import matplotlib.pyplot as fig\n",
    "import numpy as np"
   ]
  },
  {
   "cell_type": "code",
   "execution_count": 213,
   "metadata": {},
   "outputs": [],
   "source": [
    "x = np.arange(1,20)"
   ]
  },
  {
   "cell_type": "code",
   "execution_count": 214,
   "metadata": {},
   "outputs": [],
   "source": [
    "y = 3*x-3"
   ]
  },
  {
   "cell_type": "code",
   "execution_count": 215,
   "metadata": {},
   "outputs": [
    {
     "data": {
      "image/png": "[encoded data removed]",
      "text/plain": [
       "<Figure size 432x288 with 1 Axes>"
      ]
     },
     "metadata": {
      "needs_background": "light"
     },
     "output_type": "display_data"
    }
   ],
   "source": [
    "fig.plot(x,y)\n",
    "fig.title(\"Reta\")\n",
    "fig.xlabel(\"Eixo X\")\n",
    "fig.ylabel(\"Eixo Y\")\n",
    "fig.show()"
   ]
  },
  {
   "cell_type": "code",
   "execution_count": 216,
   "metadata": {},
   "outputs": [],
   "source": [
    "# arquivos de tipo texto no console\n",
    "x = [1,2,3]\n",
    "f = open('example1.txt', 'w')\n",
    "f.write('%d %d %d\\n' % (x[0], x[1], x[2]))\n",
    "f.close()"
   ]
  },
  {
   "cell_type": "code",
   "execution_count": 217,
   "metadata": {},
   "outputs": [
    {
     "name": "stdout",
     "output_type": "stream",
     "text": [
      "1 2 3\n",
      "\n"
     ]
    }
   ],
   "source": [
    "# lendo arquivos\n",
    "\n",
    "f = open(\"example1.txt\", \"r\")\n",
    "y = f.read()\n",
    "print(y)\n",
    "f.close()"
   ]
  },
  {
   "cell_type": "code",
   "execution_count": 218,
   "metadata": {},
   "outputs": [],
   "source": [
    "import openpyxl"
   ]
  },
  {
   "cell_type": "code",
   "execution_count": 219,
   "metadata": {},
   "outputs": [
    {
     "name": "stdout",
     "output_type": "stream",
     "text": [
      "10\n"
     ]
    }
   ],
   "source": [
    "file = openpyxl.load_workbook('dados.xlsx')\n",
    "\n",
    "sheet1 = file['Planilha1']\n",
    "sheet2 = file['Planilha2']\n",
    "\n",
    "x = sheet1['A1'].value\n",
    "x = sheet2['A1'].value\n",
    "\n",
    "print(x)"
   ]
  },
  {
   "cell_type": "code",
   "execution_count": 224,
   "metadata": {},
   "outputs": [
    {
     "name": "stdout",
     "output_type": "stream",
     "text": [
      "[ 1  3  5  7  9 11 13 15 17 20 22]\n"
     ]
    },
    {
     "data": {
      "text/plain": [
       "array([-8, -8, -8])"
      ]
     },
     "execution_count": 224,
     "metadata": {},
     "output_type": "execute_result"
    }
   ],
   "source": [
    "dados_array = np.array(dados)\n",
    "\n",
    "print(dados_array)\n",
    "\n",
    "dados_array[0:3]\n",
    "\n",
    "dados_array[0:3] - dados_array[4:7]"
   ]
  },
  {
   "cell_type": "code",
   "execution_count": 238,
   "metadata": {},
   "outputs": [],
   "source": [
    "import pandas as pd\n",
    "from pandas_datareader import data as pdr"
   ]
  },
  {
   "cell_type": "code",
   "execution_count": 246,
   "metadata": {},
   "outputs": [
    {
     "data": {
      "text/html": [
       "<div>\n",
       "<style scoped>\n",
       "    .dataframe tbody tr th:only-of-type {\n",
       "        vertical-align: middle;\n",
       "    }\n",
       "\n",
       "    .dataframe tbody tr th {\n",
       "        vertical-align: top;\n",
       "    }\n",
       "\n",
       "    .dataframe thead th {\n",
       "        text-align: right;\n",
       "    }\n",
       "</style>\n",
       "<table border=\"1\" class=\"dataframe\">\n",
       "  <thead>\n",
       "    <tr style=\"text-align: right;\">\n",
       "      <th></th>\n",
       "      <th>High</th>\n",
       "      <th>Low</th>\n",
       "      <th>Open</th>\n",
       "      <th>Close</th>\n",
       "      <th>Volume</th>\n",
       "      <th>Adj Close</th>\n",
       "    </tr>\n",
       "    <tr>\n",
       "      <th>Date</th>\n",
       "      <th></th>\n",
       "      <th></th>\n",
       "      <th></th>\n",
       "      <th></th>\n",
       "      <th></th>\n",
       "      <th></th>\n",
       "    </tr>\n",
       "  </thead>\n",
       "  <tbody>\n",
       "    <tr>\n",
       "      <th>2022-09-19</th>\n",
       "      <td>31.379999</td>\n",
       "      <td>29.879999</td>\n",
       "      <td>30.50</td>\n",
       "      <td>31.270000</td>\n",
       "      <td>65559900.0</td>\n",
       "      <td>31.270000</td>\n",
       "    </tr>\n",
       "    <tr>\n",
       "      <th>2022-09-20</th>\n",
       "      <td>31.600000</td>\n",
       "      <td>30.840000</td>\n",
       "      <td>31.42</td>\n",
       "      <td>31.090000</td>\n",
       "      <td>67798200.0</td>\n",
       "      <td>31.090000</td>\n",
       "    </tr>\n",
       "    <tr>\n",
       "      <th>2022-09-21</th>\n",
       "      <td>31.469999</td>\n",
       "      <td>30.889999</td>\n",
       "      <td>31.35</td>\n",
       "      <td>31.170000</td>\n",
       "      <td>58812200.0</td>\n",
       "      <td>31.170000</td>\n",
       "    </tr>\n",
       "    <tr>\n",
       "      <th>2022-09-22</th>\n",
       "      <td>32.080002</td>\n",
       "      <td>31.030001</td>\n",
       "      <td>31.48</td>\n",
       "      <td>31.940001</td>\n",
       "      <td>69764300.0</td>\n",
       "      <td>31.940001</td>\n",
       "    </tr>\n",
       "    <tr>\n",
       "      <th>2022-09-23</th>\n",
       "      <td>31.389999</td>\n",
       "      <td>29.770000</td>\n",
       "      <td>31.32</td>\n",
       "      <td>29.940001</td>\n",
       "      <td>137588500.0</td>\n",
       "      <td>29.940001</td>\n",
       "    </tr>\n",
       "  </tbody>\n",
       "</table>\n",
       "</div>"
      ],
      "text/plain": [
       "                 High        Low   Open      Close       Volume  Adj Close\n",
       "Date                                                                      \n",
       "2022-09-19  31.379999  29.879999  30.50  31.270000   65559900.0  31.270000\n",
       "2022-09-20  31.600000  30.840000  31.42  31.090000   67798200.0  31.090000\n",
       "2022-09-21  31.469999  30.889999  31.35  31.170000   58812200.0  31.170000\n",
       "2022-09-22  32.080002  31.030001  31.48  31.940001   69764300.0  31.940001\n",
       "2022-09-23  31.389999  29.770000  31.32  29.940001  137588500.0  29.940001"
      ]
     },
     "execution_count": 246,
     "metadata": {},
     "output_type": "execute_result"
    }
   ],
   "source": [
    "df = pd.DataFrame()\n",
    "\n",
    "df = pdr.DataReader('PETR4.SA', data_source='yahoo', start='1-1-2021')\n",
    "\n",
    "#df = wb.DataReader('MSFT', data_source='yahoo', start='1-1-2015')['Adj Close']\n",
    "                   \n",
    "df.count()\n",
    "\n",
    "df.tail()"
   ]
  },
  {
   "cell_type": "code",
   "execution_count": 247,
   "metadata": {},
   "outputs": [
    {
     "data": {
      "text/html": [
       "<div>\n",
       "<style scoped>\n",
       "    .dataframe tbody tr th:only-of-type {\n",
       "        vertical-align: middle;\n",
       "    }\n",
       "\n",
       "    .dataframe tbody tr th {\n",
       "        vertical-align: top;\n",
       "    }\n",
       "\n",
       "    .dataframe thead th {\n",
       "        text-align: right;\n",
       "    }\n",
       "</style>\n",
       "<table border=\"1\" class=\"dataframe\">\n",
       "  <thead>\n",
       "    <tr style=\"text-align: right;\">\n",
       "      <th></th>\n",
       "      <th>High</th>\n",
       "      <th>Low</th>\n",
       "      <th>Open</th>\n",
       "      <th>Close</th>\n",
       "      <th>Volume</th>\n",
       "      <th>Adj Close</th>\n",
       "      <th>simp_return</th>\n",
       "    </tr>\n",
       "    <tr>\n",
       "      <th>Date</th>\n",
       "      <th></th>\n",
       "      <th></th>\n",
       "      <th></th>\n",
       "      <th></th>\n",
       "      <th></th>\n",
       "      <th></th>\n",
       "      <th></th>\n",
       "    </tr>\n",
       "  </thead>\n",
       "  <tbody>\n",
       "    <tr>\n",
       "      <th>2021-01-04</th>\n",
       "      <td>29.18</td>\n",
       "      <td>28.530001</td>\n",
       "      <td>28.650000</td>\n",
       "      <td>28.910000</td>\n",
       "      <td>74719700.0</td>\n",
       "      <td>15.694894</td>\n",
       "      <td>NaN</td>\n",
       "    </tr>\n",
       "    <tr>\n",
       "      <th>2021-01-05</th>\n",
       "      <td>30.18</td>\n",
       "      <td>28.240000</td>\n",
       "      <td>28.900000</td>\n",
       "      <td>30.040001</td>\n",
       "      <td>95181100.0</td>\n",
       "      <td>16.308359</td>\n",
       "      <td>0.039087</td>\n",
       "    </tr>\n",
       "    <tr>\n",
       "      <th>2021-01-06</th>\n",
       "      <td>30.90</td>\n",
       "      <td>30.049999</td>\n",
       "      <td>30.160000</td>\n",
       "      <td>30.100000</td>\n",
       "      <td>96562500.0</td>\n",
       "      <td>16.340933</td>\n",
       "      <td>0.001997</td>\n",
       "    </tr>\n",
       "    <tr>\n",
       "      <th>2021-01-07</th>\n",
       "      <td>31.15</td>\n",
       "      <td>30.340000</td>\n",
       "      <td>30.340000</td>\n",
       "      <td>31.000000</td>\n",
       "      <td>56171300.0</td>\n",
       "      <td>16.829533</td>\n",
       "      <td>0.029900</td>\n",
       "    </tr>\n",
       "    <tr>\n",
       "      <th>2021-01-08</th>\n",
       "      <td>31.76</td>\n",
       "      <td>30.350000</td>\n",
       "      <td>31.459999</td>\n",
       "      <td>31.120001</td>\n",
       "      <td>67136300.0</td>\n",
       "      <td>16.894678</td>\n",
       "      <td>0.003871</td>\n",
       "    </tr>\n",
       "  </tbody>\n",
       "</table>\n",
       "</div>"
      ],
      "text/plain": [
       "             High        Low       Open      Close      Volume  Adj Close  \\\n",
       "Date                                                                        \n",
       "2021-01-04  29.18  28.530001  28.650000  28.910000  74719700.0  15.694894   \n",
       "2021-01-05  30.18  28.240000  28.900000  30.040001  95181100.0  16.308359   \n",
       "2021-01-06  30.90  30.049999  30.160000  30.100000  96562500.0  16.340933   \n",
       "2021-01-07  31.15  30.340000  30.340000  31.000000  56171300.0  16.829533   \n",
       "2021-01-08  31.76  30.350000  31.459999  31.120001  67136300.0  16.894678   \n",
       "\n",
       "            simp_return  \n",
       "Date                     \n",
       "2021-01-04          NaN  \n",
       "2021-01-05     0.039087  \n",
       "2021-01-06     0.001997  \n",
       "2021-01-07     0.029900  \n",
       "2021-01-08     0.003871  "
      ]
     },
     "execution_count": 247,
     "metadata": {},
     "output_type": "execute_result"
    }
   ],
   "source": [
    "df['simp_return'] = df['Close'].pct_change()\n",
    "df.head(5)"
   ]
  },
  {
   "cell_type": "code",
   "execution_count": 248,
   "metadata": {},
   "outputs": [
    {
     "data": {
      "text/html": [
       "<div>\n",
       "<style scoped>\n",
       "    .dataframe tbody tr th:only-of-type {\n",
       "        vertical-align: middle;\n",
       "    }\n",
       "\n",
       "    .dataframe tbody tr th {\n",
       "        vertical-align: top;\n",
       "    }\n",
       "\n",
       "    .dataframe thead th {\n",
       "        text-align: right;\n",
       "    }\n",
       "</style>\n",
       "<table border=\"1\" class=\"dataframe\">\n",
       "  <thead>\n",
       "    <tr style=\"text-align: right;\">\n",
       "      <th></th>\n",
       "      <th>High</th>\n",
       "      <th>Low</th>\n",
       "      <th>Open</th>\n",
       "      <th>Close</th>\n",
       "      <th>Volume</th>\n",
       "      <th>Adj Close</th>\n",
       "      <th>simp_return</th>\n",
       "      <th>simp_ret_cum</th>\n",
       "    </tr>\n",
       "    <tr>\n",
       "      <th>Date</th>\n",
       "      <th></th>\n",
       "      <th></th>\n",
       "      <th></th>\n",
       "      <th></th>\n",
       "      <th></th>\n",
       "      <th></th>\n",
       "      <th></th>\n",
       "      <th></th>\n",
       "    </tr>\n",
       "  </thead>\n",
       "  <tbody>\n",
       "    <tr>\n",
       "      <th>2022-09-19</th>\n",
       "      <td>31.379999</td>\n",
       "      <td>29.879999</td>\n",
       "      <td>30.50</td>\n",
       "      <td>31.270000</td>\n",
       "      <td>65559900.0</td>\n",
       "      <td>31.270000</td>\n",
       "      <td>0.015919</td>\n",
       "      <td>0.081633</td>\n",
       "    </tr>\n",
       "    <tr>\n",
       "      <th>2022-09-20</th>\n",
       "      <td>31.600000</td>\n",
       "      <td>30.840000</td>\n",
       "      <td>31.42</td>\n",
       "      <td>31.090000</td>\n",
       "      <td>67798200.0</td>\n",
       "      <td>31.090000</td>\n",
       "      <td>-0.005756</td>\n",
       "      <td>0.075406</td>\n",
       "    </tr>\n",
       "    <tr>\n",
       "      <th>2022-09-21</th>\n",
       "      <td>31.469999</td>\n",
       "      <td>30.889999</td>\n",
       "      <td>31.35</td>\n",
       "      <td>31.170000</td>\n",
       "      <td>58812200.0</td>\n",
       "      <td>31.170000</td>\n",
       "      <td>0.002573</td>\n",
       "      <td>0.078174</td>\n",
       "    </tr>\n",
       "    <tr>\n",
       "      <th>2022-09-22</th>\n",
       "      <td>32.080002</td>\n",
       "      <td>31.030001</td>\n",
       "      <td>31.48</td>\n",
       "      <td>31.940001</td>\n",
       "      <td>69764300.0</td>\n",
       "      <td>31.940001</td>\n",
       "      <td>0.024703</td>\n",
       "      <td>0.104808</td>\n",
       "    </tr>\n",
       "    <tr>\n",
       "      <th>2022-09-23</th>\n",
       "      <td>31.389999</td>\n",
       "      <td>29.770000</td>\n",
       "      <td>31.32</td>\n",
       "      <td>29.940001</td>\n",
       "      <td>137588500.0</td>\n",
       "      <td>29.940001</td>\n",
       "      <td>-0.062617</td>\n",
       "      <td>0.035628</td>\n",
       "    </tr>\n",
       "  </tbody>\n",
       "</table>\n",
       "</div>"
      ],
      "text/plain": [
       "                 High        Low   Open      Close       Volume  Adj Close  \\\n",
       "Date                                                                         \n",
       "2022-09-19  31.379999  29.879999  30.50  31.270000   65559900.0  31.270000   \n",
       "2022-09-20  31.600000  30.840000  31.42  31.090000   67798200.0  31.090000   \n",
       "2022-09-21  31.469999  30.889999  31.35  31.170000   58812200.0  31.170000   \n",
       "2022-09-22  32.080002  31.030001  31.48  31.940001   69764300.0  31.940001   \n",
       "2022-09-23  31.389999  29.770000  31.32  29.940001  137588500.0  29.940001   \n",
       "\n",
       "            simp_return  simp_ret_cum  \n",
       "Date                                   \n",
       "2022-09-19     0.015919      0.081633  \n",
       "2022-09-20    -0.005756      0.075406  \n",
       "2022-09-21     0.002573      0.078174  \n",
       "2022-09-22     0.024703      0.104808  \n",
       "2022-09-23    -0.062617      0.035628  "
      ]
     },
     "execution_count": 248,
     "metadata": {},
     "output_type": "execute_result"
    }
   ],
   "source": [
    "df['simp_ret_cum'] = (df['simp_return'] + 1).cumprod()-1\n",
    "df.tail()"
   ]
  },
  {
   "cell_type": "code",
   "execution_count": 249,
   "metadata": {},
   "outputs": [
    {
     "data": {
      "text/html": [
       "<div>\n",
       "<style scoped>\n",
       "    .dataframe tbody tr th:only-of-type {\n",
       "        vertical-align: middle;\n",
       "    }\n",
       "\n",
       "    .dataframe tbody tr th {\n",
       "        vertical-align: top;\n",
       "    }\n",
       "\n",
       "    .dataframe thead th {\n",
       "        text-align: right;\n",
       "    }\n",
       "</style>\n",
       "<table border=\"1\" class=\"dataframe\">\n",
       "  <thead>\n",
       "    <tr style=\"text-align: right;\">\n",
       "      <th></th>\n",
       "      <th>High</th>\n",
       "      <th>Low</th>\n",
       "      <th>Open</th>\n",
       "      <th>Close</th>\n",
       "      <th>Volume</th>\n",
       "      <th>Adj Close</th>\n",
       "      <th>simp_return</th>\n",
       "      <th>simp_ret_cum</th>\n",
       "      <th>log_return</th>\n",
       "    </tr>\n",
       "    <tr>\n",
       "      <th>Date</th>\n",
       "      <th></th>\n",
       "      <th></th>\n",
       "      <th></th>\n",
       "      <th></th>\n",
       "      <th></th>\n",
       "      <th></th>\n",
       "      <th></th>\n",
       "      <th></th>\n",
       "      <th></th>\n",
       "    </tr>\n",
       "  </thead>\n",
       "  <tbody>\n",
       "    <tr>\n",
       "      <th>2021-01-04</th>\n",
       "      <td>29.18</td>\n",
       "      <td>28.530001</td>\n",
       "      <td>28.650000</td>\n",
       "      <td>28.910000</td>\n",
       "      <td>74719700.0</td>\n",
       "      <td>15.694894</td>\n",
       "      <td>NaN</td>\n",
       "      <td>NaN</td>\n",
       "      <td>NaN</td>\n",
       "    </tr>\n",
       "    <tr>\n",
       "      <th>2021-01-05</th>\n",
       "      <td>30.18</td>\n",
       "      <td>28.240000</td>\n",
       "      <td>28.900000</td>\n",
       "      <td>30.040001</td>\n",
       "      <td>95181100.0</td>\n",
       "      <td>16.308359</td>\n",
       "      <td>0.039087</td>\n",
       "      <td>0.039087</td>\n",
       "      <td>0.038342</td>\n",
       "    </tr>\n",
       "    <tr>\n",
       "      <th>2021-01-06</th>\n",
       "      <td>30.90</td>\n",
       "      <td>30.049999</td>\n",
       "      <td>30.160000</td>\n",
       "      <td>30.100000</td>\n",
       "      <td>96562500.0</td>\n",
       "      <td>16.340933</td>\n",
       "      <td>0.001997</td>\n",
       "      <td>0.041162</td>\n",
       "      <td>0.001995</td>\n",
       "    </tr>\n",
       "    <tr>\n",
       "      <th>2021-01-07</th>\n",
       "      <td>31.15</td>\n",
       "      <td>30.340000</td>\n",
       "      <td>30.340000</td>\n",
       "      <td>31.000000</td>\n",
       "      <td>56171300.0</td>\n",
       "      <td>16.829533</td>\n",
       "      <td>0.029900</td>\n",
       "      <td>0.072293</td>\n",
       "      <td>0.029462</td>\n",
       "    </tr>\n",
       "    <tr>\n",
       "      <th>2021-01-08</th>\n",
       "      <td>31.76</td>\n",
       "      <td>30.350000</td>\n",
       "      <td>31.459999</td>\n",
       "      <td>31.120001</td>\n",
       "      <td>67136300.0</td>\n",
       "      <td>16.894678</td>\n",
       "      <td>0.003871</td>\n",
       "      <td>0.076444</td>\n",
       "      <td>0.003864</td>\n",
       "    </tr>\n",
       "  </tbody>\n",
       "</table>\n",
       "</div>"
      ],
      "text/plain": [
       "             High        Low       Open      Close      Volume  Adj Close  \\\n",
       "Date                                                                        \n",
       "2021-01-04  29.18  28.530001  28.650000  28.910000  74719700.0  15.694894   \n",
       "2021-01-05  30.18  28.240000  28.900000  30.040001  95181100.0  16.308359   \n",
       "2021-01-06  30.90  30.049999  30.160000  30.100000  96562500.0  16.340933   \n",
       "2021-01-07  31.15  30.340000  30.340000  31.000000  56171300.0  16.829533   \n",
       "2021-01-08  31.76  30.350000  31.459999  31.120001  67136300.0  16.894678   \n",
       "\n",
       "            simp_return  simp_ret_cum  log_return  \n",
       "Date                                               \n",
       "2021-01-04          NaN           NaN         NaN  \n",
       "2021-01-05     0.039087      0.039087    0.038342  \n",
       "2021-01-06     0.001997      0.041162    0.001995  \n",
       "2021-01-07     0.029900      0.072293    0.029462  \n",
       "2021-01-08     0.003871      0.076444    0.003864  "
      ]
     },
     "execution_count": 249,
     "metadata": {},
     "output_type": "execute_result"
    }
   ],
   "source": [
    "df['log_return'] = np.log(df['Close']/df['Close'].shift(1))\n",
    "df.head(5)"
   ]
  },
  {
   "cell_type": "code",
   "execution_count": 250,
   "metadata": {},
   "outputs": [
    {
     "data": {
      "text/html": [
       "<div>\n",
       "<style scoped>\n",
       "    .dataframe tbody tr th:only-of-type {\n",
       "        vertical-align: middle;\n",
       "    }\n",
       "\n",
       "    .dataframe tbody tr th {\n",
       "        vertical-align: top;\n",
       "    }\n",
       "\n",
       "    .dataframe thead th {\n",
       "        text-align: right;\n",
       "    }\n",
       "</style>\n",
       "<table border=\"1\" class=\"dataframe\">\n",
       "  <thead>\n",
       "    <tr style=\"text-align: right;\">\n",
       "      <th></th>\n",
       "      <th>High</th>\n",
       "      <th>Low</th>\n",
       "      <th>Open</th>\n",
       "      <th>Close</th>\n",
       "      <th>Volume</th>\n",
       "      <th>Adj Close</th>\n",
       "      <th>simp_return</th>\n",
       "      <th>simp_ret_cum</th>\n",
       "      <th>log_return</th>\n",
       "      <th>log_ret_cum</th>\n",
       "    </tr>\n",
       "    <tr>\n",
       "      <th>Date</th>\n",
       "      <th></th>\n",
       "      <th></th>\n",
       "      <th></th>\n",
       "      <th></th>\n",
       "      <th></th>\n",
       "      <th></th>\n",
       "      <th></th>\n",
       "      <th></th>\n",
       "      <th></th>\n",
       "      <th></th>\n",
       "    </tr>\n",
       "  </thead>\n",
       "  <tbody>\n",
       "    <tr>\n",
       "      <th>2022-09-19</th>\n",
       "      <td>31.379999</td>\n",
       "      <td>29.879999</td>\n",
       "      <td>30.50</td>\n",
       "      <td>31.270000</td>\n",
       "      <td>65559900.0</td>\n",
       "      <td>31.270000</td>\n",
       "      <td>0.015919</td>\n",
       "      <td>0.081633</td>\n",
       "      <td>0.015794</td>\n",
       "      <td>0.078472</td>\n",
       "    </tr>\n",
       "    <tr>\n",
       "      <th>2022-09-20</th>\n",
       "      <td>31.600000</td>\n",
       "      <td>30.840000</td>\n",
       "      <td>31.42</td>\n",
       "      <td>31.090000</td>\n",
       "      <td>67798200.0</td>\n",
       "      <td>31.090000</td>\n",
       "      <td>-0.005756</td>\n",
       "      <td>0.075406</td>\n",
       "      <td>-0.005773</td>\n",
       "      <td>0.072699</td>\n",
       "    </tr>\n",
       "    <tr>\n",
       "      <th>2022-09-21</th>\n",
       "      <td>31.469999</td>\n",
       "      <td>30.889999</td>\n",
       "      <td>31.35</td>\n",
       "      <td>31.170000</td>\n",
       "      <td>58812200.0</td>\n",
       "      <td>31.170000</td>\n",
       "      <td>0.002573</td>\n",
       "      <td>0.078174</td>\n",
       "      <td>0.002570</td>\n",
       "      <td>0.075269</td>\n",
       "    </tr>\n",
       "    <tr>\n",
       "      <th>2022-09-22</th>\n",
       "      <td>32.080002</td>\n",
       "      <td>31.030001</td>\n",
       "      <td>31.48</td>\n",
       "      <td>31.940001</td>\n",
       "      <td>69764300.0</td>\n",
       "      <td>31.940001</td>\n",
       "      <td>0.024703</td>\n",
       "      <td>0.104808</td>\n",
       "      <td>0.024403</td>\n",
       "      <td>0.099672</td>\n",
       "    </tr>\n",
       "    <tr>\n",
       "      <th>2022-09-23</th>\n",
       "      <td>31.389999</td>\n",
       "      <td>29.770000</td>\n",
       "      <td>31.32</td>\n",
       "      <td>29.940001</td>\n",
       "      <td>137588500.0</td>\n",
       "      <td>29.940001</td>\n",
       "      <td>-0.062617</td>\n",
       "      <td>0.035628</td>\n",
       "      <td>-0.064664</td>\n",
       "      <td>0.035008</td>\n",
       "    </tr>\n",
       "  </tbody>\n",
       "</table>\n",
       "</div>"
      ],
      "text/plain": [
       "                 High        Low   Open      Close       Volume  Adj Close  \\\n",
       "Date                                                                         \n",
       "2022-09-19  31.379999  29.879999  30.50  31.270000   65559900.0  31.270000   \n",
       "2022-09-20  31.600000  30.840000  31.42  31.090000   67798200.0  31.090000   \n",
       "2022-09-21  31.469999  30.889999  31.35  31.170000   58812200.0  31.170000   \n",
       "2022-09-22  32.080002  31.030001  31.48  31.940001   69764300.0  31.940001   \n",
       "2022-09-23  31.389999  29.770000  31.32  29.940001  137588500.0  29.940001   \n",
       "\n",
       "            simp_return  simp_ret_cum  log_return  log_ret_cum  \n",
       "Date                                                            \n",
       "2022-09-19     0.015919      0.081633    0.015794     0.078472  \n",
       "2022-09-20    -0.005756      0.075406   -0.005773     0.072699  \n",
       "2022-09-21     0.002573      0.078174    0.002570     0.075269  \n",
       "2022-09-22     0.024703      0.104808    0.024403     0.099672  \n",
       "2022-09-23    -0.062617      0.035628   -0.064664     0.035008  "
      ]
     },
     "execution_count": 250,
     "metadata": {},
     "output_type": "execute_result"
    }
   ],
   "source": [
    "df['log_ret_cum'] = df['log_return'].cumsum()\n",
    "df.tail(5)"
   ]
  }
 ],
 "metadata": {
  "kernelspec": {
   "display_name": "Python 3.9.12 ('base')",
   "language": "python",
   "name": "python3"
  },
  "language_info": {
   "codemirror_mode": {
    "name": "ipython",
    "version": 3
   },
   "file_extension": ".py",
   "mimetype": "text/x-python",
   "name": "python",
   "nbconvert_exporter": "python",
   "pygments_lexer": "ipython3",
   "version": "3.9.12"
  },
  "orig_nbformat": 4,
  "vscode": {
   "interpreter": {
    "hash": "ad2bdc8ecc057115af97d19610ffacc2b4e99fae6737bb82f5d7fb13d2f2c186"
   }
  }
 },
 "nbformat": 4,
 "nbformat_minor": 2
}
